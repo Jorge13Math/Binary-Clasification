{
 "cells": [
  {
   "cell_type": "markdown",
   "id": "northern-monster",
   "metadata": {},
   "source": [
    "# This notebook help to create a model to predict if a client buy or not a product "
   ]
  },
  {
   "cell_type": "markdown",
   "id": "continent-indie",
   "metadata": {},
   "source": [
    "# Imports"
   ]
  },
  {
   "cell_type": "code",
   "execution_count": 1,
   "id": "conceptual-citizenship",
   "metadata": {},
   "outputs": [],
   "source": [
    "import warnings\n",
    "warnings.filterwarnings(\"ignore\")"
   ]
  },
  {
   "cell_type": "code",
   "execution_count": 2,
   "id": "external-hollywood",
   "metadata": {},
   "outputs": [
    {
     "name": "stderr",
     "output_type": "stream",
     "text": [
      "Using TensorFlow backend.\n"
     ]
    }
   ],
   "source": [
    "import os\n",
    "import sys\n",
    "import pandas as pd\n",
    "import numpy as np\n",
    "import json\n",
    "import seaborn as sns\n",
    "import matplotlib.pyplot as plt\n",
    "import math\n",
    "import keras\n",
    "sys.path.append(os.path.realpath('../'))\n",
    "sys.path.append(os.path.realpath('../../'))\n",
    "from scripts.create_dataset import genererate_dataframe\n",
    "from scripts.preprocess_data import Preprocces,modify_state\n"
   ]
  },
  {
   "cell_type": "markdown",
   "id": "executed-updating",
   "metadata": {},
   "source": [
    "# Loading data"
   ]
  },
  {
   "cell_type": "code",
   "execution_count": 3,
   "id": "sharp-polls",
   "metadata": {},
   "outputs": [],
   "source": [
    "path = '../../dataset/'"
   ]
  },
  {
   "cell_type": "code",
   "execution_count": 4,
   "id": "twenty-worcester",
   "metadata": {},
   "outputs": [
    {
     "name": "stderr",
     "output_type": "stream",
     "text": [
      "[2021-01-20][17:23:11][scripts.create_dataset][INFO] Loading files\n",
      "[2021-01-20][17:23:12][scripts.create_dataset][INFO] Dataframes generated\n"
     ]
    }
   ],
   "source": [
    "df_train,df_test = genererate_dataframe(path)"
   ]
  },
  {
   "cell_type": "code",
   "execution_count": 5,
   "id": "appropriate-surname",
   "metadata": {},
   "outputs": [
    {
     "data": {
      "text/html": [
       "<div>\n",
       "<style scoped>\n",
       "    .dataframe tbody tr th:only-of-type {\n",
       "        vertical-align: middle;\n",
       "    }\n",
       "\n",
       "    .dataframe tbody tr th {\n",
       "        vertical-align: top;\n",
       "    }\n",
       "\n",
       "    .dataframe thead th {\n",
       "        text-align: right;\n",
       "    }\n",
       "</style>\n",
       "<table border=\"1\" class=\"dataframe\">\n",
       "  <thead>\n",
       "    <tr style=\"text-align: right;\">\n",
       "      <th></th>\n",
       "      <th>account_uuid</th>\n",
       "      <th>product</th>\n",
       "      <th>premium</th>\n",
       "      <th>carrier_id</th>\n",
       "      <th>convert</th>\n",
       "      <th>state</th>\n",
       "      <th>industry</th>\n",
       "      <th>subindustry</th>\n",
       "      <th>year_established</th>\n",
       "      <th>annual_revenue</th>\n",
       "      <th>total_payroll</th>\n",
       "      <th>business_structure</th>\n",
       "      <th>num_employees</th>\n",
       "    </tr>\n",
       "  </thead>\n",
       "  <tbody>\n",
       "    <tr>\n",
       "      <th>0</th>\n",
       "      <td>f09e1383-2467-4741-9bd3-39cfd7a2b399</td>\n",
       "      <td>Business_Owners_Policy_BOP</td>\n",
       "      <td>4316.0</td>\n",
       "      <td>29</td>\n",
       "      <td>0</td>\n",
       "      <td>CA</td>\n",
       "      <td>Food and Accommodation</td>\n",
       "      <td>Full-Service Restaurants</td>\n",
       "      <td>2017.0</td>\n",
       "      <td>600000.0</td>\n",
       "      <td>60000.0</td>\n",
       "      <td>Individual</td>\n",
       "      <td>8.0</td>\n",
       "    </tr>\n",
       "    <tr>\n",
       "      <th>1</th>\n",
       "      <td>8e686305-a622-4f24-ba0a-478fcbbee32c</td>\n",
       "      <td>Commercial_Auto</td>\n",
       "      <td>2085.0</td>\n",
       "      <td>9</td>\n",
       "      <td>0</td>\n",
       "      <td>GA</td>\n",
       "      <td>Administrative Services and Building Maintenance</td>\n",
       "      <td>Other Services to Buildings and Dwellings</td>\n",
       "      <td>2017.0</td>\n",
       "      <td>38400.0</td>\n",
       "      <td>0.0</td>\n",
       "      <td>Limited Partnership</td>\n",
       "      <td>0.0</td>\n",
       "    </tr>\n",
       "    <tr>\n",
       "      <th>2</th>\n",
       "      <td>f13a4b1b-f1fe3-3e49-f60c2-824c38e79a</td>\n",
       "      <td>Business_Owners_Policy_BOP</td>\n",
       "      <td>607.0</td>\n",
       "      <td>60</td>\n",
       "      <td>0</td>\n",
       "      <td>FL</td>\n",
       "      <td>Contractors</td>\n",
       "      <td>Flooring Contractors</td>\n",
       "      <td>2017.0</td>\n",
       "      <td>100000.0</td>\n",
       "      <td>0.0</td>\n",
       "      <td>Limited Liability Company</td>\n",
       "      <td>0.0</td>\n",
       "    </tr>\n",
       "    <tr>\n",
       "      <th>3</th>\n",
       "      <td>8f58d58a-762b-40b2-8a9e-6adaa4c31ea5</td>\n",
       "      <td>Workers_Compensation</td>\n",
       "      <td>779.0</td>\n",
       "      <td>22</td>\n",
       "      <td>1</td>\n",
       "      <td>CA</td>\n",
       "      <td>Other Services</td>\n",
       "      <td>Business Associations</td>\n",
       "      <td>2016.0</td>\n",
       "      <td>2500000.0</td>\n",
       "      <td>32000.0</td>\n",
       "      <td>Corporation</td>\n",
       "      <td>1.0</td>\n",
       "    </tr>\n",
       "    <tr>\n",
       "      <th>4</th>\n",
       "      <td>76eaf5b0-ed02d-3d49-15cf5-3745425c15</td>\n",
       "      <td>Workers_Compensation</td>\n",
       "      <td>10086.0</td>\n",
       "      <td>29</td>\n",
       "      <td>1</td>\n",
       "      <td>NC</td>\n",
       "      <td>Contractors</td>\n",
       "      <td>Painting and Wall Covering Contractors</td>\n",
       "      <td>2012.0</td>\n",
       "      <td>100000.0</td>\n",
       "      <td>60000.0</td>\n",
       "      <td>Individual</td>\n",
       "      <td>3.0</td>\n",
       "    </tr>\n",
       "  </tbody>\n",
       "</table>\n",
       "</div>"
      ],
      "text/plain": [
       "                           account_uuid                     product  premium  \\\n",
       "0  f09e1383-2467-4741-9bd3-39cfd7a2b399  Business_Owners_Policy_BOP   4316.0   \n",
       "1  8e686305-a622-4f24-ba0a-478fcbbee32c             Commercial_Auto   2085.0   \n",
       "2  f13a4b1b-f1fe3-3e49-f60c2-824c38e79a  Business_Owners_Policy_BOP    607.0   \n",
       "3  8f58d58a-762b-40b2-8a9e-6adaa4c31ea5        Workers_Compensation    779.0   \n",
       "4  76eaf5b0-ed02d-3d49-15cf5-3745425c15        Workers_Compensation  10086.0   \n",
       "\n",
       "   carrier_id  convert state  \\\n",
       "0          29        0    CA   \n",
       "1           9        0    GA   \n",
       "2          60        0    FL   \n",
       "3          22        1    CA   \n",
       "4          29        1    NC   \n",
       "\n",
       "                                           industry  \\\n",
       "0                            Food and Accommodation   \n",
       "1  Administrative Services and Building Maintenance   \n",
       "2                                       Contractors   \n",
       "3                                    Other Services   \n",
       "4                                       Contractors   \n",
       "\n",
       "                                 subindustry  year_established  \\\n",
       "0                   Full-Service Restaurants            2017.0   \n",
       "1  Other Services to Buildings and Dwellings            2017.0   \n",
       "2                       Flooring Contractors            2017.0   \n",
       "3                      Business Associations            2016.0   \n",
       "4     Painting and Wall Covering Contractors            2012.0   \n",
       "\n",
       "   annual_revenue  total_payroll         business_structure  num_employees  \n",
       "0        600000.0        60000.0                 Individual            8.0  \n",
       "1         38400.0            0.0        Limited Partnership            0.0  \n",
       "2        100000.0            0.0  Limited Liability Company            0.0  \n",
       "3       2500000.0        32000.0                Corporation            1.0  \n",
       "4        100000.0        60000.0                 Individual            3.0  "
      ]
     },
     "execution_count": 5,
     "metadata": {},
     "output_type": "execute_result"
    }
   ],
   "source": [
    "df_train.head()"
   ]
  },
  {
   "cell_type": "code",
   "execution_count": 6,
   "id": "through-arlington",
   "metadata": {},
   "outputs": [
    {
     "data": {
      "text/html": [
       "<div>\n",
       "<style scoped>\n",
       "    .dataframe tbody tr th:only-of-type {\n",
       "        vertical-align: middle;\n",
       "    }\n",
       "\n",
       "    .dataframe tbody tr th {\n",
       "        vertical-align: top;\n",
       "    }\n",
       "\n",
       "    .dataframe thead th {\n",
       "        text-align: right;\n",
       "    }\n",
       "</style>\n",
       "<table border=\"1\" class=\"dataframe\">\n",
       "  <thead>\n",
       "    <tr style=\"text-align: right;\">\n",
       "      <th></th>\n",
       "      <th>account_uuid</th>\n",
       "      <th>product</th>\n",
       "      <th>premium</th>\n",
       "      <th>carrier_id</th>\n",
       "      <th>convert</th>\n",
       "      <th>state</th>\n",
       "      <th>industry</th>\n",
       "      <th>subindustry</th>\n",
       "      <th>year_established</th>\n",
       "      <th>annual_revenue</th>\n",
       "      <th>total_payroll</th>\n",
       "      <th>business_structure</th>\n",
       "      <th>num_employees</th>\n",
       "    </tr>\n",
       "  </thead>\n",
       "  <tbody>\n",
       "    <tr>\n",
       "      <th>11719</th>\n",
       "      <td>4c5e3e97-6377-46f8-870c-2aac880ba856</td>\n",
       "      <td>Business_Owners_Policy_BOP</td>\n",
       "      <td>530.0</td>\n",
       "      <td>60</td>\n",
       "      <td>0</td>\n",
       "      <td>AZ</td>\n",
       "      <td>Real Estate</td>\n",
       "      <td>Offices of Real Estate Agents and Brokers</td>\n",
       "      <td>2018.0</td>\n",
       "      <td>50000.0</td>\n",
       "      <td>0.0</td>\n",
       "      <td>Limited Liability Company</td>\n",
       "      <td>0.0</td>\n",
       "    </tr>\n",
       "    <tr>\n",
       "      <th>11720</th>\n",
       "      <td>b631c12e-9f15-420e-8b5e-c9385694edbf</td>\n",
       "      <td>General_Liability</td>\n",
       "      <td>485.0</td>\n",
       "      <td>21</td>\n",
       "      <td>1</td>\n",
       "      <td>CA</td>\n",
       "      <td>Wholesale Trade</td>\n",
       "      <td>Women's, Children's, and Infants' Clothing and...</td>\n",
       "      <td>1997.0</td>\n",
       "      <td>72000.0</td>\n",
       "      <td>0.0</td>\n",
       "      <td>Corporation</td>\n",
       "      <td>0.0</td>\n",
       "    </tr>\n",
       "    <tr>\n",
       "      <th>11721</th>\n",
       "      <td>b631c12e-9f15-420e-8b5e-c9385694edbf</td>\n",
       "      <td>General_Liability</td>\n",
       "      <td>550.0</td>\n",
       "      <td>60</td>\n",
       "      <td>0</td>\n",
       "      <td>CA</td>\n",
       "      <td>Wholesale Trade</td>\n",
       "      <td>Women's, Children's, and Infants' Clothing and...</td>\n",
       "      <td>1997.0</td>\n",
       "      <td>72000.0</td>\n",
       "      <td>0.0</td>\n",
       "      <td>Corporation</td>\n",
       "      <td>0.0</td>\n",
       "    </tr>\n",
       "    <tr>\n",
       "      <th>11722</th>\n",
       "      <td>343aa0e9-95f6-4c7f-9fe4-9669d2c7eee8</td>\n",
       "      <td>General_Liability</td>\n",
       "      <td>371.0</td>\n",
       "      <td>39</td>\n",
       "      <td>0</td>\n",
       "      <td>TX</td>\n",
       "      <td>Food and Accommodation</td>\n",
       "      <td>Caterers</td>\n",
       "      <td>2018.0</td>\n",
       "      <td>3600.0</td>\n",
       "      <td>0.0</td>\n",
       "      <td>Individual</td>\n",
       "      <td>0.0</td>\n",
       "    </tr>\n",
       "    <tr>\n",
       "      <th>11723</th>\n",
       "      <td>ecd5c103-f3f4-4a2d-8e67-be2d1be4945d</td>\n",
       "      <td>Workers_Compensation</td>\n",
       "      <td>310.5</td>\n",
       "      <td>29</td>\n",
       "      <td>1</td>\n",
       "      <td>MS</td>\n",
       "      <td>Consultants</td>\n",
       "      <td>Administrative Management and General Manageme...</td>\n",
       "      <td>2018.0</td>\n",
       "      <td>55000.0</td>\n",
       "      <td>0.0</td>\n",
       "      <td>Limited Liability Company</td>\n",
       "      <td>1.0</td>\n",
       "    </tr>\n",
       "  </tbody>\n",
       "</table>\n",
       "</div>"
      ],
      "text/plain": [
       "                               account_uuid                     product  \\\n",
       "11719  4c5e3e97-6377-46f8-870c-2aac880ba856  Business_Owners_Policy_BOP   \n",
       "11720  b631c12e-9f15-420e-8b5e-c9385694edbf           General_Liability   \n",
       "11721  b631c12e-9f15-420e-8b5e-c9385694edbf           General_Liability   \n",
       "11722  343aa0e9-95f6-4c7f-9fe4-9669d2c7eee8           General_Liability   \n",
       "11723  ecd5c103-f3f4-4a2d-8e67-be2d1be4945d        Workers_Compensation   \n",
       "\n",
       "       premium  carrier_id  convert state                industry  \\\n",
       "11719    530.0          60        0    AZ             Real Estate   \n",
       "11720    485.0          21        1    CA         Wholesale Trade   \n",
       "11721    550.0          60        0    CA         Wholesale Trade   \n",
       "11722    371.0          39        0    TX  Food and Accommodation   \n",
       "11723    310.5          29        1    MS             Consultants   \n",
       "\n",
       "                                             subindustry  year_established  \\\n",
       "11719          Offices of Real Estate Agents and Brokers            2018.0   \n",
       "11720  Women's, Children's, and Infants' Clothing and...            1997.0   \n",
       "11721  Women's, Children's, and Infants' Clothing and...            1997.0   \n",
       "11722                                           Caterers            2018.0   \n",
       "11723  Administrative Management and General Manageme...            2018.0   \n",
       "\n",
       "       annual_revenue  total_payroll         business_structure  num_employees  \n",
       "11719         50000.0            0.0  Limited Liability Company            0.0  \n",
       "11720         72000.0            0.0                Corporation            0.0  \n",
       "11721         72000.0            0.0                Corporation            0.0  \n",
       "11722          3600.0            0.0                 Individual            0.0  \n",
       "11723         55000.0            0.0  Limited Liability Company            1.0  "
      ]
     },
     "execution_count": 6,
     "metadata": {},
     "output_type": "execute_result"
    }
   ],
   "source": [
    "df_train.tail()"
   ]
  },
  {
   "cell_type": "code",
   "execution_count": 7,
   "id": "detailed-greenhouse",
   "metadata": {},
   "outputs": [
    {
     "data": {
      "text/html": [
       "<div>\n",
       "<style scoped>\n",
       "    .dataframe tbody tr th:only-of-type {\n",
       "        vertical-align: middle;\n",
       "    }\n",
       "\n",
       "    .dataframe tbody tr th {\n",
       "        vertical-align: top;\n",
       "    }\n",
       "\n",
       "    .dataframe thead th {\n",
       "        text-align: right;\n",
       "    }\n",
       "</style>\n",
       "<table border=\"1\" class=\"dataframe\">\n",
       "  <thead>\n",
       "    <tr style=\"text-align: right;\">\n",
       "      <th></th>\n",
       "      <th>account_uuid</th>\n",
       "      <th>product</th>\n",
       "      <th>premium</th>\n",
       "      <th>carrier_id</th>\n",
       "      <th>state</th>\n",
       "      <th>industry</th>\n",
       "      <th>subindustry</th>\n",
       "      <th>year_established</th>\n",
       "      <th>annual_revenue</th>\n",
       "      <th>total_payroll</th>\n",
       "      <th>business_structure</th>\n",
       "      <th>num_employees</th>\n",
       "    </tr>\n",
       "  </thead>\n",
       "  <tbody>\n",
       "    <tr>\n",
       "      <th>0</th>\n",
       "      <td>cadb76f5-2f0ad-a78b-6c138-001288b999</td>\n",
       "      <td>Business_Owners_Policy_BOP</td>\n",
       "      <td>518.0</td>\n",
       "      <td>60</td>\n",
       "      <td>TX</td>\n",
       "      <td>Contractors</td>\n",
       "      <td>Electrical Contractors and Other Wiring Instal...</td>\n",
       "      <td>2018.0</td>\n",
       "      <td>100000.0</td>\n",
       "      <td>25000.0</td>\n",
       "      <td>Limited Liability Company</td>\n",
       "      <td>3.0</td>\n",
       "    </tr>\n",
       "    <tr>\n",
       "      <th>1</th>\n",
       "      <td>cadb76f5-2f0ad-a78b-6c138-001288b999</td>\n",
       "      <td>Business_Owners_Policy_BOP</td>\n",
       "      <td>542.0</td>\n",
       "      <td>60</td>\n",
       "      <td>TX</td>\n",
       "      <td>Contractors</td>\n",
       "      <td>Electrical Contractors and Other Wiring Instal...</td>\n",
       "      <td>2018.0</td>\n",
       "      <td>100000.0</td>\n",
       "      <td>25000.0</td>\n",
       "      <td>Limited Liability Company</td>\n",
       "      <td>3.0</td>\n",
       "    </tr>\n",
       "    <tr>\n",
       "      <th>2</th>\n",
       "      <td>d8aed557-aa49-4e6c-8f1d-860fa56e633f</td>\n",
       "      <td>General_Liability</td>\n",
       "      <td>500.0</td>\n",
       "      <td>39</td>\n",
       "      <td>FL</td>\n",
       "      <td>Administrative Services and Building Maintenance</td>\n",
       "      <td>Other Services to Buildings and Dwellings</td>\n",
       "      <td>2018.0</td>\n",
       "      <td>25000.0</td>\n",
       "      <td>0.0</td>\n",
       "      <td>Individual</td>\n",
       "      <td>0.0</td>\n",
       "    </tr>\n",
       "    <tr>\n",
       "      <th>3</th>\n",
       "      <td>08ec2c90-b3037-3f8e-429af-f834f19937</td>\n",
       "      <td>Business_Owners_Policy_BOP</td>\n",
       "      <td>500.0</td>\n",
       "      <td>31</td>\n",
       "      <td>NY</td>\n",
       "      <td>Administrative Services and Building Maintenance</td>\n",
       "      <td>Janitorial Services</td>\n",
       "      <td>2017.0</td>\n",
       "      <td>10000.0</td>\n",
       "      <td>0.0</td>\n",
       "      <td>Individual</td>\n",
       "      <td>0.0</td>\n",
       "    </tr>\n",
       "    <tr>\n",
       "      <th>4</th>\n",
       "      <td>14a4b644-740b-454e-8872-3460fda39092</td>\n",
       "      <td>CW_Professional_Liability</td>\n",
       "      <td>400.0</td>\n",
       "      <td>31</td>\n",
       "      <td>CA</td>\n",
       "      <td>NaN</td>\n",
       "      <td>NaN</td>\n",
       "      <td>2018.0</td>\n",
       "      <td>12000.0</td>\n",
       "      <td>4000.0</td>\n",
       "      <td>Individual</td>\n",
       "      <td>1.0</td>\n",
       "    </tr>\n",
       "  </tbody>\n",
       "</table>\n",
       "</div>"
      ],
      "text/plain": [
       "                           account_uuid                     product  premium  \\\n",
       "0  cadb76f5-2f0ad-a78b-6c138-001288b999  Business_Owners_Policy_BOP    518.0   \n",
       "1  cadb76f5-2f0ad-a78b-6c138-001288b999  Business_Owners_Policy_BOP    542.0   \n",
       "2  d8aed557-aa49-4e6c-8f1d-860fa56e633f           General_Liability    500.0   \n",
       "3  08ec2c90-b3037-3f8e-429af-f834f19937  Business_Owners_Policy_BOP    500.0   \n",
       "4  14a4b644-740b-454e-8872-3460fda39092   CW_Professional_Liability    400.0   \n",
       "\n",
       "   carrier_id state                                          industry  \\\n",
       "0          60    TX                                       Contractors   \n",
       "1          60    TX                                       Contractors   \n",
       "2          39    FL  Administrative Services and Building Maintenance   \n",
       "3          31    NY  Administrative Services and Building Maintenance   \n",
       "4          31    CA                                               NaN   \n",
       "\n",
       "                                         subindustry  year_established  \\\n",
       "0  Electrical Contractors and Other Wiring Instal...            2018.0   \n",
       "1  Electrical Contractors and Other Wiring Instal...            2018.0   \n",
       "2          Other Services to Buildings and Dwellings            2018.0   \n",
       "3                                Janitorial Services            2017.0   \n",
       "4                                                NaN            2018.0   \n",
       "\n",
       "   annual_revenue  total_payroll         business_structure  num_employees  \n",
       "0        100000.0        25000.0  Limited Liability Company            3.0  \n",
       "1        100000.0        25000.0  Limited Liability Company            3.0  \n",
       "2         25000.0            0.0                 Individual            0.0  \n",
       "3         10000.0            0.0                 Individual            0.0  \n",
       "4         12000.0         4000.0                 Individual            1.0  "
      ]
     },
     "execution_count": 7,
     "metadata": {},
     "output_type": "execute_result"
    }
   ],
   "source": [
    "df_test.head()"
   ]
  },
  {
   "cell_type": "code",
   "execution_count": 8,
   "id": "premium-nursery",
   "metadata": {},
   "outputs": [
    {
     "data": {
      "text/html": [
       "<div>\n",
       "<style scoped>\n",
       "    .dataframe tbody tr th:only-of-type {\n",
       "        vertical-align: middle;\n",
       "    }\n",
       "\n",
       "    .dataframe tbody tr th {\n",
       "        vertical-align: top;\n",
       "    }\n",
       "\n",
       "    .dataframe thead th {\n",
       "        text-align: right;\n",
       "    }\n",
       "</style>\n",
       "<table border=\"1\" class=\"dataframe\">\n",
       "  <thead>\n",
       "    <tr style=\"text-align: right;\">\n",
       "      <th></th>\n",
       "      <th>account_uuid</th>\n",
       "      <th>product</th>\n",
       "      <th>premium</th>\n",
       "      <th>carrier_id</th>\n",
       "      <th>state</th>\n",
       "      <th>industry</th>\n",
       "      <th>subindustry</th>\n",
       "      <th>year_established</th>\n",
       "      <th>annual_revenue</th>\n",
       "      <th>total_payroll</th>\n",
       "      <th>business_structure</th>\n",
       "      <th>num_employees</th>\n",
       "    </tr>\n",
       "  </thead>\n",
       "  <tbody>\n",
       "    <tr>\n",
       "      <th>5000</th>\n",
       "      <td>0ff8953c-71dd-4d0e-83d3-d709edfa6456</td>\n",
       "      <td>CW_Umbrella_Policy</td>\n",
       "      <td>1060.00</td>\n",
       "      <td>73</td>\n",
       "      <td>CA</td>\n",
       "      <td>Sports, Arts, Entertainment, and Recreation</td>\n",
       "      <td>All Other Amusement and Recreation Industries</td>\n",
       "      <td>2017.0</td>\n",
       "      <td>5000.0</td>\n",
       "      <td>0.0</td>\n",
       "      <td>Individual</td>\n",
       "      <td>0.0</td>\n",
       "    </tr>\n",
       "    <tr>\n",
       "      <th>5001</th>\n",
       "      <td>88ffff2d-7520-41ab-97cb-7e77a986781b</td>\n",
       "      <td>CW_Umbrella_Policy</td>\n",
       "      <td>773.00</td>\n",
       "      <td>39</td>\n",
       "      <td>CA</td>\n",
       "      <td>Manufacturing</td>\n",
       "      <td>Jewelry and Silverware Manufacturing</td>\n",
       "      <td>1983.0</td>\n",
       "      <td>160000.0</td>\n",
       "      <td>0.0</td>\n",
       "      <td>Individual</td>\n",
       "      <td>0.0</td>\n",
       "    </tr>\n",
       "    <tr>\n",
       "      <th>5002</th>\n",
       "      <td>2b086194-0036-4fcc-b156-6d0da3b733a9</td>\n",
       "      <td>General_Liability</td>\n",
       "      <td>1019.00</td>\n",
       "      <td>9</td>\n",
       "      <td>AL</td>\n",
       "      <td>Other Services</td>\n",
       "      <td>Appliance Repair and Maintenance</td>\n",
       "      <td>2014.0</td>\n",
       "      <td>24000.0</td>\n",
       "      <td>15000.0</td>\n",
       "      <td>Individual</td>\n",
       "      <td>1.0</td>\n",
       "    </tr>\n",
       "    <tr>\n",
       "      <th>5003</th>\n",
       "      <td>b889ddea-1ceb-4684-b21b-231ae6c65658</td>\n",
       "      <td>General_Liability</td>\n",
       "      <td>701.00</td>\n",
       "      <td>9</td>\n",
       "      <td>NJ</td>\n",
       "      <td>Contractors</td>\n",
       "      <td>Site Preparation Contractors</td>\n",
       "      <td>2014.0</td>\n",
       "      <td>100000.0</td>\n",
       "      <td>0.0</td>\n",
       "      <td>Limited Liability Company</td>\n",
       "      <td>0.0</td>\n",
       "    </tr>\n",
       "    <tr>\n",
       "      <th>5004</th>\n",
       "      <td>43b828ce-ef91-4f4e-b137-bf148f822c52</td>\n",
       "      <td>General_Liability</td>\n",
       "      <td>712.25</td>\n",
       "      <td>39</td>\n",
       "      <td>MI</td>\n",
       "      <td>Administrative Services and Building Maintenance</td>\n",
       "      <td>Janitorial Services</td>\n",
       "      <td>2017.0</td>\n",
       "      <td>20000.0</td>\n",
       "      <td>10000.0</td>\n",
       "      <td>Limited Liability Company</td>\n",
       "      <td>3.0</td>\n",
       "    </tr>\n",
       "  </tbody>\n",
       "</table>\n",
       "</div>"
      ],
      "text/plain": [
       "                              account_uuid             product  premium  \\\n",
       "5000  0ff8953c-71dd-4d0e-83d3-d709edfa6456  CW_Umbrella_Policy  1060.00   \n",
       "5001  88ffff2d-7520-41ab-97cb-7e77a986781b  CW_Umbrella_Policy   773.00   \n",
       "5002  2b086194-0036-4fcc-b156-6d0da3b733a9   General_Liability  1019.00   \n",
       "5003  b889ddea-1ceb-4684-b21b-231ae6c65658   General_Liability   701.00   \n",
       "5004  43b828ce-ef91-4f4e-b137-bf148f822c52   General_Liability   712.25   \n",
       "\n",
       "      carrier_id state                                          industry  \\\n",
       "5000          73    CA       Sports, Arts, Entertainment, and Recreation   \n",
       "5001          39    CA                                     Manufacturing   \n",
       "5002           9    AL                                    Other Services   \n",
       "5003           9    NJ                                       Contractors   \n",
       "5004          39    MI  Administrative Services and Building Maintenance   \n",
       "\n",
       "                                        subindustry  year_established  \\\n",
       "5000  All Other Amusement and Recreation Industries            2017.0   \n",
       "5001           Jewelry and Silverware Manufacturing            1983.0   \n",
       "5002               Appliance Repair and Maintenance            2014.0   \n",
       "5003                   Site Preparation Contractors            2014.0   \n",
       "5004                            Janitorial Services            2017.0   \n",
       "\n",
       "      annual_revenue  total_payroll         business_structure  num_employees  \n",
       "5000          5000.0            0.0                 Individual            0.0  \n",
       "5001        160000.0            0.0                 Individual            0.0  \n",
       "5002         24000.0        15000.0                 Individual            1.0  \n",
       "5003        100000.0            0.0  Limited Liability Company            0.0  \n",
       "5004         20000.0        10000.0  Limited Liability Company            3.0  "
      ]
     },
     "execution_count": 8,
     "metadata": {},
     "output_type": "execute_result"
    }
   ],
   "source": [
    "df_test.tail()"
   ]
  },
  {
   "cell_type": "code",
   "execution_count": 9,
   "id": "broadband-powell",
   "metadata": {},
   "outputs": [
    {
     "data": {
      "text/plain": [
       "Index(['product', 'premium', 'carrier_id', 'convert', 'state', 'industry',\n",
       "       'subindustry', 'year_established', 'annual_revenue', 'total_payroll',\n",
       "       'business_structure', 'num_employees'],\n",
       "      dtype='object')"
      ]
     },
     "execution_count": 9,
     "metadata": {},
     "output_type": "execute_result"
    }
   ],
   "source": [
    "df_train.columns[1:]"
   ]
  },
  {
   "cell_type": "code",
   "execution_count": 10,
   "id": "rotary-luxury",
   "metadata": {},
   "outputs": [],
   "source": [
    "df_train.state = df_train['state'].apply(modify_state)"
   ]
  },
  {
   "cell_type": "markdown",
   "id": "divine-station",
   "metadata": {},
   "source": [
    "## Cheking same Values in test and train data"
   ]
  },
  {
   "cell_type": "code",
   "execution_count": 11,
   "id": "plastic-protest",
   "metadata": {},
   "outputs": [
    {
     "name": "stdout",
     "output_type": "stream",
     "text": [
      "\n",
      "product\n",
      "\n",
      "{'CW_Ocean_Marine', 'Accident_Group', 'CW_BOP_E_O'}\n",
      "\n",
      "state\n",
      "\n",
      "set()\n",
      "\n",
      "industry\n",
      "\n",
      "{'Rentals and Leasing', 'Home Based Business'}\n",
      "\n",
      "business_structure\n",
      "\n",
      "{nan, 'Trust'}\n"
     ]
    }
   ],
   "source": [
    "for col in ['product','state', 'industry','business_structure']:\n",
    "    try:\n",
    "        print()\n",
    "        print(col)\n",
    "        print()\n",
    "        print(set(df_train[col])-set(df_test[col]))\n",
    "    except:\n",
    "        pass"
   ]
  },
  {
   "cell_type": "markdown",
   "id": "australian-bottom",
   "metadata": {},
   "source": [
    "# EDA"
   ]
  },
  {
   "cell_type": "code",
   "execution_count": 12,
   "id": "pressing-coordinate",
   "metadata": {},
   "outputs": [
    {
     "data": {
      "text/html": [
       "<div>\n",
       "<style scoped>\n",
       "    .dataframe tbody tr th:only-of-type {\n",
       "        vertical-align: middle;\n",
       "    }\n",
       "\n",
       "    .dataframe tbody tr th {\n",
       "        vertical-align: top;\n",
       "    }\n",
       "\n",
       "    .dataframe thead th {\n",
       "        text-align: right;\n",
       "    }\n",
       "</style>\n",
       "<table border=\"1\" class=\"dataframe\">\n",
       "  <thead>\n",
       "    <tr style=\"text-align: right;\">\n",
       "      <th></th>\n",
       "      <th>premium</th>\n",
       "      <th>carrier_id</th>\n",
       "      <th>convert</th>\n",
       "      <th>year_established</th>\n",
       "      <th>annual_revenue</th>\n",
       "      <th>total_payroll</th>\n",
       "      <th>num_employees</th>\n",
       "    </tr>\n",
       "  </thead>\n",
       "  <tbody>\n",
       "    <tr>\n",
       "      <th>count</th>\n",
       "      <td>11724.000000</td>\n",
       "      <td>11724.000000</td>\n",
       "      <td>11724.000000</td>\n",
       "      <td>11653.000000</td>\n",
       "      <td>1.167400e+04</td>\n",
       "      <td>1.163200e+04</td>\n",
       "      <td>11639.000000</td>\n",
       "    </tr>\n",
       "    <tr>\n",
       "      <th>mean</th>\n",
       "      <td>1423.377073</td>\n",
       "      <td>40.507079</td>\n",
       "      <td>0.579751</td>\n",
       "      <td>2013.144083</td>\n",
       "      <td>2.662658e+05</td>\n",
       "      <td>4.301648e+04</td>\n",
       "      <td>7.562162</td>\n",
       "    </tr>\n",
       "    <tr>\n",
       "      <th>std</th>\n",
       "      <td>2734.863925</td>\n",
       "      <td>15.116433</td>\n",
       "      <td>0.493620</td>\n",
       "      <td>22.488829</td>\n",
       "      <td>2.135401e+06</td>\n",
       "      <td>2.332703e+05</td>\n",
       "      <td>471.997579</td>\n",
       "    </tr>\n",
       "    <tr>\n",
       "      <th>min</th>\n",
       "      <td>1.000000</td>\n",
       "      <td>1.000000</td>\n",
       "      <td>0.000000</td>\n",
       "      <td>6.000000</td>\n",
       "      <td>0.000000e+00</td>\n",
       "      <td>0.000000e+00</td>\n",
       "      <td>0.000000</td>\n",
       "    </tr>\n",
       "    <tr>\n",
       "      <th>25%</th>\n",
       "      <td>500.000000</td>\n",
       "      <td>31.000000</td>\n",
       "      <td>0.000000</td>\n",
       "      <td>2013.000000</td>\n",
       "      <td>3.000000e+04</td>\n",
       "      <td>0.000000e+00</td>\n",
       "      <td>0.000000</td>\n",
       "    </tr>\n",
       "    <tr>\n",
       "      <th>50%</th>\n",
       "      <td>617.000000</td>\n",
       "      <td>39.000000</td>\n",
       "      <td>1.000000</td>\n",
       "      <td>2017.000000</td>\n",
       "      <td>6.500000e+04</td>\n",
       "      <td>0.000000e+00</td>\n",
       "      <td>0.000000</td>\n",
       "    </tr>\n",
       "    <tr>\n",
       "      <th>75%</th>\n",
       "      <td>1238.097500</td>\n",
       "      <td>56.000000</td>\n",
       "      <td>1.000000</td>\n",
       "      <td>2017.000000</td>\n",
       "      <td>1.500000e+05</td>\n",
       "      <td>3.000000e+04</td>\n",
       "      <td>1.000000</td>\n",
       "    </tr>\n",
       "    <tr>\n",
       "      <th>max</th>\n",
       "      <td>75508.000000</td>\n",
       "      <td>77.000000</td>\n",
       "      <td>1.000000</td>\n",
       "      <td>2107.000000</td>\n",
       "      <td>7.500000e+07</td>\n",
       "      <td>7.000000e+06</td>\n",
       "      <td>36000.000000</td>\n",
       "    </tr>\n",
       "  </tbody>\n",
       "</table>\n",
       "</div>"
      ],
      "text/plain": [
       "            premium    carrier_id       convert  year_established  \\\n",
       "count  11724.000000  11724.000000  11724.000000      11653.000000   \n",
       "mean    1423.377073     40.507079      0.579751       2013.144083   \n",
       "std     2734.863925     15.116433      0.493620         22.488829   \n",
       "min        1.000000      1.000000      0.000000          6.000000   \n",
       "25%      500.000000     31.000000      0.000000       2013.000000   \n",
       "50%      617.000000     39.000000      1.000000       2017.000000   \n",
       "75%     1238.097500     56.000000      1.000000       2017.000000   \n",
       "max    75508.000000     77.000000      1.000000       2107.000000   \n",
       "\n",
       "       annual_revenue  total_payroll  num_employees  \n",
       "count    1.167400e+04   1.163200e+04   11639.000000  \n",
       "mean     2.662658e+05   4.301648e+04       7.562162  \n",
       "std      2.135401e+06   2.332703e+05     471.997579  \n",
       "min      0.000000e+00   0.000000e+00       0.000000  \n",
       "25%      3.000000e+04   0.000000e+00       0.000000  \n",
       "50%      6.500000e+04   0.000000e+00       0.000000  \n",
       "75%      1.500000e+05   3.000000e+04       1.000000  \n",
       "max      7.500000e+07   7.000000e+06   36000.000000  "
      ]
     },
     "execution_count": 12,
     "metadata": {},
     "output_type": "execute_result"
    }
   ],
   "source": [
    "df_train.describe()"
   ]
  },
  {
   "cell_type": "code",
   "execution_count": 13,
   "id": "comprehensive-canvas",
   "metadata": {},
   "outputs": [
    {
     "name": "stdout",
     "output_type": "stream",
     "text": [
      "<class 'pandas.core.frame.DataFrame'>\n",
      "Int64Index: 11724 entries, 0 to 11723\n",
      "Data columns (total 13 columns):\n",
      " #   Column              Non-Null Count  Dtype  \n",
      "---  ------              --------------  -----  \n",
      " 0   account_uuid        11724 non-null  object \n",
      " 1   product             11724 non-null  object \n",
      " 2   premium             11724 non-null  float64\n",
      " 3   carrier_id          11724 non-null  int64  \n",
      " 4   convert             11724 non-null  int64  \n",
      " 5   state               11685 non-null  object \n",
      " 6   industry            11483 non-null  object \n",
      " 7   subindustry         11483 non-null  object \n",
      " 8   year_established    11653 non-null  float64\n",
      " 9   annual_revenue      11674 non-null  float64\n",
      " 10  total_payroll       11632 non-null  float64\n",
      " 11  business_structure  11722 non-null  object \n",
      " 12  num_employees       11639 non-null  float64\n",
      "dtypes: float64(5), int64(2), object(6)\n",
      "memory usage: 1.3+ MB\n"
     ]
    }
   ],
   "source": [
    "df_train.info()"
   ]
  },
  {
   "cell_type": "code",
   "execution_count": 14,
   "id": "native-airport",
   "metadata": {},
   "outputs": [
    {
     "data": {
      "text/plain": [
       "account_uuid           object\n",
       "product                object\n",
       "premium               float64\n",
       "carrier_id              int64\n",
       "convert                 int64\n",
       "state                  object\n",
       "industry               object\n",
       "subindustry            object\n",
       "year_established      float64\n",
       "annual_revenue        float64\n",
       "total_payroll         float64\n",
       "business_structure     object\n",
       "num_employees         float64\n",
       "dtype: object"
      ]
     },
     "execution_count": 14,
     "metadata": {},
     "output_type": "execute_result"
    }
   ],
   "source": [
    "df_train.dtypes"
   ]
  },
  {
   "cell_type": "code",
   "execution_count": 15,
   "id": "anticipated-cover",
   "metadata": {},
   "outputs": [
    {
     "data": {
      "text/plain": [
       "(11724, 13)"
      ]
     },
     "execution_count": 15,
     "metadata": {},
     "output_type": "execute_result"
    }
   ],
   "source": [
    "df_train.shape"
   ]
  },
  {
   "cell_type": "markdown",
   "id": "expired-acceptance",
   "metadata": {},
   "source": [
    "## Analysis of Missing Values "
   ]
  },
  {
   "cell_type": "code",
   "execution_count": 16,
   "id": "wanted-actor",
   "metadata": {},
   "outputs": [
    {
     "data": {
      "text/plain": [
       "account_uuid            0\n",
       "product                 0\n",
       "premium                 0\n",
       "carrier_id              0\n",
       "convert                 0\n",
       "state                  39\n",
       "industry              241\n",
       "subindustry           241\n",
       "year_established       71\n",
       "annual_revenue         50\n",
       "total_payroll          92\n",
       "business_structure      2\n",
       "num_employees          85\n",
       "dtype: int64"
      ]
     },
     "execution_count": 16,
     "metadata": {},
     "output_type": "execute_result"
    }
   ],
   "source": [
    "df_train.isna().sum()"
   ]
  },
  {
   "cell_type": "code",
   "execution_count": 17,
   "id": "czech-puppy",
   "metadata": {},
   "outputs": [
    {
     "data": {
      "image/png": "[encoded data removed]",
      "text/plain": [
       "<Figure size 576x360 with 1 Axes>"
      ]
     },
     "metadata": {
      "needs_background": "light"
     },
     "output_type": "display_data"
    }
   ],
   "source": [
    "df_nan =pd.DataFrame({'Variables':df_train.isna().sum().index, 'Number_of_nan':df_train.isna().sum().values})\n",
    "df_nan.plot(x='Variables', y='Number_of_nan', kind='bar', legend=False, grid=True, figsize=(8, 5))\n",
    "plt.title('NaN for variable in train data ')\n",
    "plt.ylabel('Count')\n",
    "plt.show()"
   ]
  },
  {
   "cell_type": "code",
   "execution_count": 18,
   "id": "becoming-inclusion",
   "metadata": {},
   "outputs": [
    {
     "data": {
      "image/png": "[encoded data removed]",
      "text/plain": [
       "<Figure size 576x360 with 1 Axes>"
      ]
     },
     "metadata": {
      "needs_background": "light"
     },
     "output_type": "display_data"
    }
   ],
   "source": [
    "df_test_nan =pd.DataFrame({'Variables':df_test.isna().sum().index, 'Number_of_nan':df_test.isna().sum().values})\n",
    "df_test_nan.plot(x='Variables', y='Number_of_nan', kind='bar', legend=False, grid=True, figsize=(8, 5))\n",
    "plt.title('NaN for variable in test data ')\n",
    "plt.ylabel('Count')\n",
    "plt.show()"
   ]
  },
  {
   "cell_type": "code",
   "execution_count": 19,
   "id": "middle-excitement",
   "metadata": {},
   "outputs": [
    {
     "data": {
      "text/html": [
       "<div>\n",
       "<style scoped>\n",
       "    .dataframe tbody tr th:only-of-type {\n",
       "        vertical-align: middle;\n",
       "    }\n",
       "\n",
       "    .dataframe tbody tr th {\n",
       "        vertical-align: top;\n",
       "    }\n",
       "\n",
       "    .dataframe thead th {\n",
       "        text-align: right;\n",
       "    }\n",
       "</style>\n",
       "<table border=\"1\" class=\"dataframe\">\n",
       "  <thead>\n",
       "    <tr style=\"text-align: right;\">\n",
       "      <th></th>\n",
       "      <th>Variables</th>\n",
       "      <th>Number_of_nan</th>\n",
       "    </tr>\n",
       "  </thead>\n",
       "  <tbody>\n",
       "    <tr>\n",
       "      <th>0</th>\n",
       "      <td>account_uuid</td>\n",
       "      <td>0</td>\n",
       "    </tr>\n",
       "    <tr>\n",
       "      <th>1</th>\n",
       "      <td>product</td>\n",
       "      <td>0</td>\n",
       "    </tr>\n",
       "    <tr>\n",
       "      <th>2</th>\n",
       "      <td>premium</td>\n",
       "      <td>0</td>\n",
       "    </tr>\n",
       "    <tr>\n",
       "      <th>3</th>\n",
       "      <td>carrier_id</td>\n",
       "      <td>0</td>\n",
       "    </tr>\n",
       "    <tr>\n",
       "      <th>4</th>\n",
       "      <td>state</td>\n",
       "      <td>3</td>\n",
       "    </tr>\n",
       "    <tr>\n",
       "      <th>5</th>\n",
       "      <td>industry</td>\n",
       "      <td>113</td>\n",
       "    </tr>\n",
       "    <tr>\n",
       "      <th>6</th>\n",
       "      <td>subindustry</td>\n",
       "      <td>113</td>\n",
       "    </tr>\n",
       "    <tr>\n",
       "      <th>7</th>\n",
       "      <td>year_established</td>\n",
       "      <td>7</td>\n",
       "    </tr>\n",
       "    <tr>\n",
       "      <th>8</th>\n",
       "      <td>annual_revenue</td>\n",
       "      <td>6</td>\n",
       "    </tr>\n",
       "    <tr>\n",
       "      <th>9</th>\n",
       "      <td>total_payroll</td>\n",
       "      <td>27</td>\n",
       "    </tr>\n",
       "    <tr>\n",
       "      <th>10</th>\n",
       "      <td>business_structure</td>\n",
       "      <td>0</td>\n",
       "    </tr>\n",
       "    <tr>\n",
       "      <th>11</th>\n",
       "      <td>num_employees</td>\n",
       "      <td>21</td>\n",
       "    </tr>\n",
       "  </tbody>\n",
       "</table>\n",
       "</div>"
      ],
      "text/plain": [
       "             Variables  Number_of_nan\n",
       "0         account_uuid              0\n",
       "1              product              0\n",
       "2              premium              0\n",
       "3           carrier_id              0\n",
       "4                state              3\n",
       "5             industry            113\n",
       "6          subindustry            113\n",
       "7     year_established              7\n",
       "8       annual_revenue              6\n",
       "9        total_payroll             27\n",
       "10  business_structure              0\n",
       "11       num_employees             21"
      ]
     },
     "execution_count": 19,
     "metadata": {},
     "output_type": "execute_result"
    }
   ],
   "source": [
    "df_test_nan"
   ]
  },
  {
   "cell_type": "code",
   "execution_count": 20,
   "id": "provincial-george",
   "metadata": {},
   "outputs": [
    {
     "data": {
      "text/plain": [
       "Limited Liability Company    2323\n",
       "Individual                   1585\n",
       "Corporation                   906\n",
       "Non-Profit                     67\n",
       "Partnership                    56\n",
       "Limited Partnership            30\n",
       "Other                          29\n",
       "Not sure yet                    8\n",
       "Indivdual/Sole Proprietor       1\n",
       "Name: business_structure, dtype: int64"
      ]
     },
     "execution_count": 20,
     "metadata": {},
     "output_type": "execute_result"
    }
   ],
   "source": [
    "df_test.business_structure.value_counts()"
   ]
  },
  {
   "cell_type": "markdown",
   "id": "sized-vietnam",
   "metadata": {},
   "source": [
    "## Analysis of target value"
   ]
  },
  {
   "cell_type": "code",
   "execution_count": 21,
   "id": "fresh-laugh",
   "metadata": {},
   "outputs": [
    {
     "data": {
      "image/png": "[encoded data removed]",
      "text/plain": [
       "<Figure size 432x288 with 1 Axes>"
      ]
     },
     "metadata": {
      "needs_background": "light"
     },
     "output_type": "display_data"
    }
   ],
   "source": [
    "df_train[['convert']].hist()\n",
    "plt.ylabel('Count')\n",
    "plt.show()"
   ]
  },
  {
   "cell_type": "code",
   "execution_count": 22,
   "id": "divine-pizza",
   "metadata": {},
   "outputs": [
    {
     "data": {
      "text/plain": [
       "1    6797\n",
       "0    4927\n",
       "Name: convert, dtype: int64"
      ]
     },
     "execution_count": 22,
     "metadata": {},
     "output_type": "execute_result"
    }
   ],
   "source": [
    "df_train.convert.value_counts()"
   ]
  },
  {
   "cell_type": "code",
   "execution_count": 23,
   "id": "tough-bunch",
   "metadata": {},
   "outputs": [
    {
     "name": "stdout",
     "output_type": "stream",
     "text": [
      "Percentage of target 1 : 58 %\n"
     ]
    }
   ],
   "source": [
    "print(f\"Percentage of target 1 : {round(df_train.convert.value_counts().values[0] * 100 / len(df_train))} %\" )"
   ]
  },
  {
   "cell_type": "code",
   "execution_count": 24,
   "id": "polish-transmission",
   "metadata": {},
   "outputs": [
    {
     "name": "stdout",
     "output_type": "stream",
     "text": [
      "Percentage of target 0 : 42 %\n"
     ]
    }
   ],
   "source": [
    "print(f\"Percentage of target 0 : {round(df_train.convert.value_counts().values[1] * 100 / len(df_train))} %\")"
   ]
  },
  {
   "cell_type": "markdown",
   "id": "efficient-reunion",
   "metadata": {},
   "source": [
    "## Analysis of Categorical Variables"
   ]
  },
  {
   "cell_type": "code",
   "execution_count": 25,
   "id": "literary-revision",
   "metadata": {},
   "outputs": [
    {
     "data": {
      "image/png": "[encoded data removed]",
      "text/plain": [
       "<Figure size 576x360 with 1 Axes>"
      ]
     },
     "metadata": {
      "needs_background": "light"
     },
     "output_type": "display_data"
    }
   ],
   "source": [
    "df_industry =pd.DataFrame({'Industry':df_train.industry.value_counts().index, 'Count':df_train.industry.value_counts().values})\n",
    "df_industry.plot(x='Industry', y='Count', kind='bar', legend=False, grid=True, figsize=(8, 5))\n",
    "plt.title('industry for category ')\n",
    "plt.ylabel('Count')\n",
    "plt.show()"
   ]
  },
  {
   "cell_type": "code",
   "execution_count": 26,
   "id": "driven-saying",
   "metadata": {},
   "outputs": [
    {
     "data": {
      "image/png": "[encoded data removed]",
      "text/plain": [
       "<Figure size 1080x360 with 1 Axes>"
      ]
     },
     "metadata": {
      "needs_background": "light"
     },
     "output_type": "display_data"
    }
   ],
   "source": [
    "df_industry_category = pd.DataFrame({'0':df_train[df_train['convert']==0][['industry']].industry.value_counts(), '1':df_train[df_train['convert']==1][['industry']].industry.value_counts()},index =df_train.industry.value_counts().index)\n",
    "df_industry_category.plot.bar(rot=90,grid=True, figsize=(15, 5))\n",
    "plt.title('industry for category and class ')\n",
    "plt.ylabel('Count')\n",
    "plt.show()"
   ]
  },
  {
   "cell_type": "code",
   "execution_count": 27,
   "id": "extended-nudist",
   "metadata": {},
   "outputs": [],
   "source": [
    "df_train = df_train.drop(df_train[(df_train.industry=='Home Based Business')].index)"
   ]
  },
  {
   "cell_type": "code",
   "execution_count": 28,
   "id": "exempt-universe",
   "metadata": {},
   "outputs": [
    {
     "data": {
      "text/plain": [
       "Janitorial Services                                     708\n",
       "Residential Remodelers                                  478\n",
       "Landscaping Services                                    401\n",
       "Beauty Salons                                           349\n",
       "Painting and Wall Covering Contractors                  273\n",
       "                                                       ... \n",
       "Human Rights Organizations                                1\n",
       "Consumer Lending                                          1\n",
       "Confectionery Manufacturing from Purchased Chocolate      1\n",
       "Window Treatment Stores                                   1\n",
       "Tire and Tube Merchant Wholesalers                        1\n",
       "Name: subindustry, Length: 481, dtype: int64"
      ]
     },
     "execution_count": 28,
     "metadata": {},
     "output_type": "execute_result"
    }
   ],
   "source": [
    "df_train.subindustry.value_counts()"
   ]
  },
  {
   "cell_type": "code",
   "execution_count": 29,
   "id": "hollow-graduate",
   "metadata": {},
   "outputs": [
    {
     "data": {
      "image/png": "[encoded data removed]",
      "text/plain": [
       "<Figure size 1080x360 with 1 Axes>"
      ]
     },
     "metadata": {
      "needs_background": "light"
     },
     "output_type": "display_data"
    }
   ],
   "source": [
    "df_state_category = pd.DataFrame({'0':df_train[df_train['convert']==0][['state']].state.value_counts(), '1':df_train[df_train['convert']==1].state.value_counts()},index =df_train.state.value_counts().index)\n",
    "df_state_category.plot.bar(rot=90,grid=True, figsize=(15, 5))\n",
    "plt.title('state for category and class ')\n",
    "plt.ylabel('Count')\n",
    "plt.show()"
   ]
  },
  {
   "cell_type": "code",
   "execution_count": 30,
   "id": "vietnamese-parent",
   "metadata": {},
   "outputs": [
    {
     "data": {
      "image/png": "[encoded data removed]",
      "text/plain": [
       "<Figure size 1080x360 with 1 Axes>"
      ]
     },
     "metadata": {
      "needs_background": "light"
     },
     "output_type": "display_data"
    }
   ],
   "source": [
    "df_business = pd.DataFrame({'Business':df_train.business_structure.value_counts().index, 'Count':df_train.business_structure.value_counts().values})\n",
    "df_business.plot(x='Business', y='Count', kind='bar', legend=False, grid=True, figsize=(15, 5))\n",
    "plt.title('business_structure for category')\n",
    "plt.ylabel('Count')\n",
    "plt.show()"
   ]
  },
  {
   "cell_type": "code",
   "execution_count": 31,
   "id": "starting-security",
   "metadata": {},
   "outputs": [
    {
     "data": {
      "image/png": "[encoded data removed]",
      "text/plain": [
       "<Figure size 720x360 with 1 Axes>"
      ]
     },
     "metadata": {
      "needs_background": "light"
     },
     "output_type": "display_data"
    }
   ],
   "source": [
    "df_business_category = pd.DataFrame({'0':df_train[df_train['convert']==0].business_structure.value_counts(), '1':df_train[df_train['convert']==1].business_structure.value_counts()},index =df_train.business_structure.value_counts().index)\n",
    "df_business_category.plot.bar(rot=90,grid=True, figsize=(10, 5))\n",
    "plt.title('business_structure for category and class ')\n",
    "plt.ylabel('Count')\n",
    "plt.show()"
   ]
  },
  {
   "cell_type": "code",
   "execution_count": 32,
   "id": "endangered-fault",
   "metadata": {},
   "outputs": [],
   "source": [
    "df_train = df_train.drop(df_train[(df_train.business_structure=='Trust')].index)"
   ]
  },
  {
   "cell_type": "code",
   "execution_count": 33,
   "id": "verified-arkansas",
   "metadata": {},
   "outputs": [
    {
     "data": {
      "image/png": "[encoded data removed]",
      "text/plain": [
       "<Figure size 1080x360 with 1 Axes>"
      ]
     },
     "metadata": {
      "needs_background": "light"
     },
     "output_type": "display_data"
    }
   ],
   "source": [
    "df_product = pd.DataFrame({'product':df_train['product'].value_counts().index, 'Count':df_train['product'].value_counts().values})\n",
    "df_product.plot(x='product', y='Count', kind='bar', legend=False, grid=True, figsize=(15, 5))\n",
    "plt.title('product for category')\n",
    "plt.ylabel('Count')\n",
    "plt.show()"
   ]
  },
  {
   "cell_type": "code",
   "execution_count": 34,
   "id": "complex-investor",
   "metadata": {},
   "outputs": [
    {
     "data": {
      "image/png": "[encoded data removed]",
      "text/plain": [
       "<Figure size 1080x360 with 1 Axes>"
      ]
     },
     "metadata": {
      "needs_background": "light"
     },
     "output_type": "display_data"
    }
   ],
   "source": [
    "df_product_category = pd.DataFrame({'0':df_train[df_train['convert']==0]['product'].value_counts(), '1':df_train[df_train['convert']==1]['product'].value_counts()},index =df_train['product'].value_counts().index)\n",
    "df_product_category.plot.bar(rot=90,grid=True, figsize=(15, 5))\n",
    "plt.title('product for category and class')\n",
    "plt.ylabel('Count')\n",
    "plt.show()"
   ]
  },
  {
   "cell_type": "code",
   "execution_count": 35,
   "id": "trying-fitness",
   "metadata": {},
   "outputs": [],
   "source": [
    "df_train = df_train.drop(df_train[(df_train['product']=='Accident_Group') | (df_train['product']=='CW_Ocean_Marine') | (df_train['product']=='CW_BOP_E_O') ].index)"
   ]
  },
  {
   "cell_type": "code",
   "execution_count": 36,
   "id": "sealed-capital",
   "metadata": {},
   "outputs": [
    {
     "name": "stdout",
     "output_type": "stream",
     "text": [
      "\n",
      "product\n",
      "\n",
      "set()\n",
      "\n",
      "state\n",
      "\n",
      "set()\n",
      "\n",
      "industry\n",
      "\n",
      "{'Rentals and Leasing'}\n",
      "\n",
      "business_structure\n",
      "\n",
      "{nan}\n"
     ]
    }
   ],
   "source": [
    "for col in ['product','state', 'industry','business_structure']:\n",
    "    try:\n",
    "        print()\n",
    "        print(col)\n",
    "        print()\n",
    "        print(set(df_train[col])-set(df_test[col]))\n",
    "    except:\n",
    "        pass"
   ]
  },
  {
   "cell_type": "markdown",
   "id": "shared-domain",
   "metadata": {},
   "source": [
    "## Analysis of Numerical Variables"
   ]
  },
  {
   "cell_type": "code",
   "execution_count": 37,
   "id": "compact-probe",
   "metadata": {},
   "outputs": [
    {
     "data": {
      "image/png": "[encoded data removed]",
      "text/plain": [
       "<Figure size 1080x360 with 1 Axes>"
      ]
     },
     "metadata": {
      "needs_background": "light"
     },
     "output_type": "display_data"
    }
   ],
   "source": [
    "df_year = pd.DataFrame({'Year':df_train.year_established.value_counts().index, 'Number_for_year':df_train.year_established.value_counts().values})\n",
    "df_year.sort_values(by=['Year']).plot(x='Year', y='Number_for_year', kind='bar', legend=False, grid=True, figsize=(15, 5))\n",
    "plt.title('year_established')\n",
    "plt.ylabel('Count')\n",
    "plt.show()"
   ]
  },
  {
   "cell_type": "code",
   "execution_count": 38,
   "id": "outside-bacon",
   "metadata": {},
   "outputs": [
    {
     "data": {
      "image/png": "[encoded data removed]",
      "text/plain": [
       "<Figure size 1080x360 with 1 Axes>"
      ]
     },
     "metadata": {
      "needs_background": "light"
     },
     "output_type": "display_data"
    }
   ],
   "source": [
    "df_year_category = pd.DataFrame({'0':df_train[df_train['convert']==0].year_established.value_counts(), '1':df_train[df_train['convert']==1].year_established.value_counts()},index =df_train.year_established.value_counts().index )\n",
    "df_year_category.sort_index().plot.bar(rot=90,grid=True, figsize=(15, 5))\n",
    "plt.title('year_established for class')\n",
    "plt.ylabel('Count')\n",
    "plt.show()"
   ]
  },
  {
   "cell_type": "code",
   "execution_count": 39,
   "id": "disciplinary-kruger",
   "metadata": {},
   "outputs": [
    {
     "data": {
      "image/png": "[encoded data removed]",
      "text/plain": [
       "<Figure size 1080x360 with 1 Axes>"
      ]
     },
     "metadata": {
      "needs_background": "light"
     },
     "output_type": "display_data"
    }
   ],
   "source": [
    "df_carrier = pd.DataFrame({'Carrier_id':df_train.carrier_id.value_counts().index, 'Count':df_train.carrier_id.value_counts().values})\n",
    "df_carrier.sort_values(by=['Carrier_id']).plot(x='Carrier_id', y='Count', kind='bar', legend=False, grid=True, figsize=(15, 5))\n",
    "plt.title('carrier_id for category')\n",
    "plt.ylabel('Count')\n",
    "plt.show()"
   ]
  },
  {
   "cell_type": "code",
   "execution_count": 40,
   "id": "interesting-suffering",
   "metadata": {},
   "outputs": [
    {
     "data": {
      "image/png": "[encoded data removed]",
      "text/plain": [
       "<Figure size 1080x360 with 1 Axes>"
      ]
     },
     "metadata": {
      "needs_background": "light"
     },
     "output_type": "display_data"
    }
   ],
   "source": [
    "df_carrier_category = pd.DataFrame({'0':df_train[df_train['convert']==0].carrier_id.value_counts(), '1':df_train[df_train['convert']==1].carrier_id.value_counts()},index =df_train.carrier_id.value_counts().index )\n",
    "df_carrier_category.sort_index().plot.bar(rot=90,grid=True, figsize=(15, 5))\n",
    "plt.title('carrier_id for category and class')\n",
    "plt.ylabel('Count')\n",
    "plt.show()"
   ]
  },
  {
   "cell_type": "code",
   "execution_count": 41,
   "id": "existing-fluid",
   "metadata": {},
   "outputs": [
    {
     "data": {
      "text/plain": [
       "array([[<AxesSubplot:title={'center':'annual_revenue'}>,\n",
       "        <AxesSubplot:title={'center':'premium'}>],\n",
       "       [<AxesSubplot:title={'center':'total_payroll'}>, <AxesSubplot:>]],\n",
       "      dtype=object)"
      ]
     },
     "execution_count": 41,
     "metadata": {},
     "output_type": "execute_result"
    },
    {
     "data": {
      "image/png": "[encoded data removed]",
      "text/plain": [
       "<Figure size 720x360 with 4 Axes>"
      ]
     },
     "metadata": {
      "needs_background": "light"
     },
     "output_type": "display_data"
    }
   ],
   "source": [
    "df_train[['annual_revenue','total_payroll','premium']].hist(grid=True, figsize=(10, 5))"
   ]
  },
  {
   "cell_type": "markdown",
   "id": "rising-november",
   "metadata": {},
   "source": [
    "## Applying logarithmic smoothing to numerical variables"
   ]
  },
  {
   "cell_type": "code",
   "execution_count": 42,
   "id": "structural-guyana",
   "metadata": {},
   "outputs": [],
   "source": [
    "df_train_log = df_train[['annual_revenue','total_payroll','premium']].applymap(lambda x:np.log(x) if x>0 else x)"
   ]
  },
  {
   "cell_type": "code",
   "execution_count": 43,
   "id": "floral-green",
   "metadata": {},
   "outputs": [],
   "source": [
    "df_train_log['convert'] = df_train['convert']"
   ]
  },
  {
   "cell_type": "code",
   "execution_count": 44,
   "id": "retired-bookmark",
   "metadata": {},
   "outputs": [
    {
     "data": {
      "image/png": "[encoded data removed]",
      "text/plain": [
       "<Figure size 720x360 with 4 Axes>"
      ]
     },
     "metadata": {
      "needs_background": "light"
     },
     "output_type": "display_data"
    }
   ],
   "source": [
    "df_train_log[['annual_revenue','total_payroll','premium']].hist(grid=True, figsize=(10, 5))\n",
    "plt.show()"
   ]
  },
  {
   "cell_type": "code",
   "execution_count": 45,
   "id": "behind-colony",
   "metadata": {},
   "outputs": [
    {
     "data": {
      "image/png": "[encoded data removed]",
      "text/plain": [
       "<Figure size 432x288 with 1 Axes>"
      ]
     },
     "metadata": {
      "needs_background": "light"
     },
     "output_type": "display_data"
    },
    {
     "data": {
      "image/png": "[encoded data removed]",
      "text/plain": [
       "<Figure size 432x288 with 1 Axes>"
      ]
     },
     "metadata": {
      "needs_background": "light"
     },
     "output_type": "display_data"
    },
    {
     "data": {
      "image/png": "[encoded data removed]",
      "text/plain": [
       "<Figure size 432x288 with 1 Axes>"
      ]
     },
     "metadata": {
      "needs_background": "light"
     },
     "output_type": "display_data"
    }
   ],
   "source": [
    "sns.boxplot(x='convert',y='annual_revenue',data=df_train)\n",
    "plt.title('annual_revenue without logarithmic smoothing')\n",
    "plt.show()\n",
    "\n",
    "sns.boxplot(x='convert',y='premium',data=df_train)\n",
    "plt.title('premiume without logarithmic smoothing')\n",
    "plt.show()\n",
    "\n",
    "sns.boxplot(x='convert',y='total_payroll',data=df_train)\n",
    "plt.title('total_payroll without logarithmic smoothing')\n",
    "plt.show()"
   ]
  },
  {
   "cell_type": "code",
   "execution_count": 46,
   "id": "labeled-editing",
   "metadata": {},
   "outputs": [
    {
     "data": {
      "image/png": "[encoded data removed]",
      "text/plain": [
       "<Figure size 432x288 with 1 Axes>"
      ]
     },
     "metadata": {
      "needs_background": "light"
     },
     "output_type": "display_data"
    },
    {
     "data": {
      "image/png": "[encoded data removed]",
      "text/plain": [
       "<Figure size 432x288 with 1 Axes>"
      ]
     },
     "metadata": {
      "needs_background": "light"
     },
     "output_type": "display_data"
    },
    {
     "data": {
      "image/png": "[encoded data removed]",
      "text/plain": [
       "<Figure size 432x288 with 1 Axes>"
      ]
     },
     "metadata": {
      "needs_background": "light"
     },
     "output_type": "display_data"
    }
   ],
   "source": [
    "sns.boxplot(x='convert',y='annual_revenue',data=df_train_log)\n",
    "plt.title('annual_revenue with logarithmic smoothing')\n",
    "plt.show()\n",
    "\n",
    "sns.boxplot(x='convert',y='premium',data=df_train_log)\n",
    "plt.title('premium with logarithmic smoothing')\n",
    "plt.show()\n",
    "\n",
    "sns.boxplot(x='convert',y='total_payroll',data=df_train_log)\n",
    "plt.title('total_payroll with logarithmic smoothing')\n",
    "plt.show()"
   ]
  },
  {
   "cell_type": "markdown",
   "id": "strong-deputy",
   "metadata": {},
   "source": [
    "## Correlation between variables"
   ]
  },
  {
   "cell_type": "code",
   "execution_count": 47,
   "id": "exotic-domain",
   "metadata": {},
   "outputs": [],
   "source": [
    "df_train_num = df_train.select_dtypes(include = ['float64','int64']).copy()"
   ]
  },
  {
   "cell_type": "code",
   "execution_count": 48,
   "id": "combined-community",
   "metadata": {},
   "outputs": [],
   "source": [
    "df_train_num_log = df_train_num.copy()\n",
    "df_train_num_log[['annual_revenue','total_payroll','premium']] = df_train_num_log[['annual_revenue','total_payroll','premium']].applymap(lambda x:np.log(x) if x>0 else 0)"
   ]
  },
  {
   "cell_type": "code",
   "execution_count": 49,
   "id": "aerial-nowhere",
   "metadata": {},
   "outputs": [
    {
     "data": {
      "image/png": "[encoded data removed]",
      "text/plain": [
       "<Figure size 792x648 with 2 Axes>"
      ]
     },
     "metadata": {
      "needs_background": "light"
     },
     "output_type": "display_data"
    }
   ],
   "source": [
    "corr =  df_train_num.corr()\n",
    "\n",
    "mask = np.zeros_like(corr, dtype=np.bool)\n",
    "mask[np.triu_indices_from(mask)] = True\n",
    "\n",
    "\n",
    "f, ax = plt.subplots(figsize=(11, 9))\n",
    "\n",
    "\n",
    "cmap = sns.diverging_palette(240, 10, n=9)\n",
    "\n",
    "\n",
    "sns.heatmap(corr, mask=mask, cmap=cmap, vmax=.3, center=0,\n",
    "            square=True, linewidths=.5, cbar_kws={\"shrink\": .8})\n",
    "plt.title('Correlation without logarithmic smoothing')\n",
    "plt.show()"
   ]
  },
  {
   "cell_type": "code",
   "execution_count": 50,
   "id": "wrong-bridges",
   "metadata": {},
   "outputs": [
    {
     "data": {
      "image/png": "[encoded data removed]",
      "text/plain": [
       "<Figure size 792x648 with 2 Axes>"
      ]
     },
     "metadata": {
      "needs_background": "light"
     },
     "output_type": "display_data"
    }
   ],
   "source": [
    "corr =  df_train_num_log.corr()\n",
    "\n",
    "mask = np.zeros_like(corr, dtype=np.bool)\n",
    "mask[np.triu_indices_from(mask)] = True\n",
    "\n",
    "\n",
    "f, ax = plt.subplots(figsize=(11, 9))\n",
    "\n",
    "\n",
    "cmap = sns.diverging_palette(240, 10, n=9)\n",
    "\n",
    "\n",
    "sns.heatmap(corr, mask=mask, cmap=cmap, vmax=.3, center=0,\n",
    "            square=True, linewidths=.5, cbar_kws={\"shrink\": .8})\n",
    "plt.title('Correlation with logarithmic smoothing')\n",
    "plt.show()"
   ]
  },
  {
   "cell_type": "markdown",
   "id": "amazing-partition",
   "metadata": {},
   "source": [
    "# Preprocess Data "
   ]
  },
  {
   "cell_type": "code",
   "execution_count": 51,
   "id": "alone-jesus",
   "metadata": {},
   "outputs": [],
   "source": [
    "preprocess = Preprocces(df_train)"
   ]
  },
  {
   "cell_type": "code",
   "execution_count": 52,
   "id": "right-fusion",
   "metadata": {},
   "outputs": [
    {
     "name": "stderr",
     "output_type": "stream",
     "text": [
      "[2021-01-20][17:23:26][scripts.preprocess_data][INFO] Shape of dataframe:(11717, 13)\n",
      "[2021-01-20][17:23:26][scripts.preprocess_data][INFO] Remove outlier from column year_established\n",
      "[2021-01-20][17:23:26][scripts.preprocess_data][INFO] Shape of dataframe:(11714, 13)\n",
      "[2021-01-20][17:23:26][scripts.preprocess_data][INFO] Transform column year_established to company years example: 2017 --> 4\n",
      "[2021-01-20][17:23:26][scripts.preprocess_data][INFO] Apply logarithm to annual_revenue total_payroll premium\n"
     ]
    }
   ],
   "source": [
    "df_clean = preprocess.clean_dataframe()"
   ]
  },
  {
   "cell_type": "code",
   "execution_count": 53,
   "id": "negative-smoke",
   "metadata": {},
   "outputs": [
    {
     "data": {
      "text/html": [
       "<div>\n",
       "<style scoped>\n",
       "    .dataframe tbody tr th:only-of-type {\n",
       "        vertical-align: middle;\n",
       "    }\n",
       "\n",
       "    .dataframe tbody tr th {\n",
       "        vertical-align: top;\n",
       "    }\n",
       "\n",
       "    .dataframe thead th {\n",
       "        text-align: right;\n",
       "    }\n",
       "</style>\n",
       "<table border=\"1\" class=\"dataframe\">\n",
       "  <thead>\n",
       "    <tr style=\"text-align: right;\">\n",
       "      <th></th>\n",
       "      <th>account_uuid</th>\n",
       "      <th>product</th>\n",
       "      <th>premium</th>\n",
       "      <th>carrier_id</th>\n",
       "      <th>convert</th>\n",
       "      <th>state</th>\n",
       "      <th>industry</th>\n",
       "      <th>subindustry</th>\n",
       "      <th>year_established</th>\n",
       "      <th>annual_revenue</th>\n",
       "      <th>total_payroll</th>\n",
       "      <th>business_structure</th>\n",
       "      <th>num_employees</th>\n",
       "    </tr>\n",
       "  </thead>\n",
       "  <tbody>\n",
       "    <tr>\n",
       "      <th>0</th>\n",
       "      <td>f09e1383-2467-4741-9bd3-39cfd7a2b399</td>\n",
       "      <td>Business_Owners_Policy_BOP</td>\n",
       "      <td>8.370084</td>\n",
       "      <td>29</td>\n",
       "      <td>0</td>\n",
       "      <td>CA</td>\n",
       "      <td>Food and Accommodation</td>\n",
       "      <td>Full-Service Restaurants</td>\n",
       "      <td>4.0</td>\n",
       "      <td>13.304685</td>\n",
       "      <td>11.002100</td>\n",
       "      <td>Individual</td>\n",
       "      <td>8.0</td>\n",
       "    </tr>\n",
       "    <tr>\n",
       "      <th>1</th>\n",
       "      <td>8e686305-a622-4f24-ba0a-478fcbbee32c</td>\n",
       "      <td>Commercial_Auto</td>\n",
       "      <td>7.642524</td>\n",
       "      <td>9</td>\n",
       "      <td>0</td>\n",
       "      <td>GA</td>\n",
       "      <td>Administrative Services and Building Maintenance</td>\n",
       "      <td>Other Services to Buildings and Dwellings</td>\n",
       "      <td>4.0</td>\n",
       "      <td>10.555813</td>\n",
       "      <td>0.000000</td>\n",
       "      <td>Limited Partnership</td>\n",
       "      <td>0.0</td>\n",
       "    </tr>\n",
       "    <tr>\n",
       "      <th>2</th>\n",
       "      <td>f13a4b1b-f1fe3-3e49-f60c2-824c38e79a</td>\n",
       "      <td>Business_Owners_Policy_BOP</td>\n",
       "      <td>6.408529</td>\n",
       "      <td>60</td>\n",
       "      <td>0</td>\n",
       "      <td>FL</td>\n",
       "      <td>Contractors</td>\n",
       "      <td>Flooring Contractors</td>\n",
       "      <td>4.0</td>\n",
       "      <td>11.512925</td>\n",
       "      <td>0.000000</td>\n",
       "      <td>Limited Liability Company</td>\n",
       "      <td>0.0</td>\n",
       "    </tr>\n",
       "    <tr>\n",
       "      <th>3</th>\n",
       "      <td>8f58d58a-762b-40b2-8a9e-6adaa4c31ea5</td>\n",
       "      <td>Workers_Compensation</td>\n",
       "      <td>6.658011</td>\n",
       "      <td>22</td>\n",
       "      <td>1</td>\n",
       "      <td>CA</td>\n",
       "      <td>Other Services</td>\n",
       "      <td>Business Associations</td>\n",
       "      <td>5.0</td>\n",
       "      <td>14.731801</td>\n",
       "      <td>10.373491</td>\n",
       "      <td>Corporation</td>\n",
       "      <td>1.0</td>\n",
       "    </tr>\n",
       "    <tr>\n",
       "      <th>4</th>\n",
       "      <td>76eaf5b0-ed02d-3d49-15cf5-3745425c15</td>\n",
       "      <td>Workers_Compensation</td>\n",
       "      <td>9.218904</td>\n",
       "      <td>29</td>\n",
       "      <td>1</td>\n",
       "      <td>NC</td>\n",
       "      <td>Contractors</td>\n",
       "      <td>Painting and Wall Covering Contractors</td>\n",
       "      <td>9.0</td>\n",
       "      <td>11.512925</td>\n",
       "      <td>11.002100</td>\n",
       "      <td>Individual</td>\n",
       "      <td>3.0</td>\n",
       "    </tr>\n",
       "  </tbody>\n",
       "</table>\n",
       "</div>"
      ],
      "text/plain": [
       "                           account_uuid                     product   premium  \\\n",
       "0  f09e1383-2467-4741-9bd3-39cfd7a2b399  Business_Owners_Policy_BOP  8.370084   \n",
       "1  8e686305-a622-4f24-ba0a-478fcbbee32c             Commercial_Auto  7.642524   \n",
       "2  f13a4b1b-f1fe3-3e49-f60c2-824c38e79a  Business_Owners_Policy_BOP  6.408529   \n",
       "3  8f58d58a-762b-40b2-8a9e-6adaa4c31ea5        Workers_Compensation  6.658011   \n",
       "4  76eaf5b0-ed02d-3d49-15cf5-3745425c15        Workers_Compensation  9.218904   \n",
       "\n",
       "   carrier_id  convert state  \\\n",
       "0          29        0    CA   \n",
       "1           9        0    GA   \n",
       "2          60        0    FL   \n",
       "3          22        1    CA   \n",
       "4          29        1    NC   \n",
       "\n",
       "                                           industry  \\\n",
       "0                            Food and Accommodation   \n",
       "1  Administrative Services and Building Maintenance   \n",
       "2                                       Contractors   \n",
       "3                                    Other Services   \n",
       "4                                       Contractors   \n",
       "\n",
       "                                 subindustry  year_established  \\\n",
       "0                   Full-Service Restaurants               4.0   \n",
       "1  Other Services to Buildings and Dwellings               4.0   \n",
       "2                       Flooring Contractors               4.0   \n",
       "3                      Business Associations               5.0   \n",
       "4     Painting and Wall Covering Contractors               9.0   \n",
       "\n",
       "   annual_revenue  total_payroll         business_structure  num_employees  \n",
       "0       13.304685      11.002100                 Individual            8.0  \n",
       "1       10.555813       0.000000        Limited Partnership            0.0  \n",
       "2       11.512925       0.000000  Limited Liability Company            0.0  \n",
       "3       14.731801      10.373491                Corporation            1.0  \n",
       "4       11.512925      11.002100                 Individual            3.0  "
      ]
     },
     "execution_count": 53,
     "metadata": {},
     "output_type": "execute_result"
    }
   ],
   "source": [
    "df_clean.head()"
   ]
  },
  {
   "cell_type": "markdown",
   "id": "outer-packet",
   "metadata": {},
   "source": [
    "## 1- Imputation of Missing Values in numerical Data "
   ]
  },
  {
   "cell_type": "code",
   "execution_count": 54,
   "id": "alternate-hungary",
   "metadata": {},
   "outputs": [],
   "source": [
    "df_clean = preprocess.fill_numerical_na(['year_established','annual_revenue','total_payroll','num_employees'],df_clean)"
   ]
  },
  {
   "cell_type": "code",
   "execution_count": 55,
   "id": "numerous-tomato",
   "metadata": {},
   "outputs": [
    {
     "data": {
      "text/plain": [
       "account_uuid            0\n",
       "product                 0\n",
       "premium                 0\n",
       "carrier_id              0\n",
       "convert                 0\n",
       "state                  39\n",
       "industry              240\n",
       "subindustry           240\n",
       "year_established        0\n",
       "annual_revenue          0\n",
       "total_payroll           0\n",
       "business_structure      2\n",
       "num_employees           0\n",
       "dtype: int64"
      ]
     },
     "execution_count": 55,
     "metadata": {},
     "output_type": "execute_result"
    }
   ],
   "source": [
    "df_clean.isna().sum()"
   ]
  },
  {
   "cell_type": "markdown",
   "id": "powerful-occurrence",
   "metadata": {},
   "source": [
    "## 2- Imputation of Missing Values in categorical Data"
   ]
  },
  {
   "cell_type": "markdown",
   "id": "taken-absolute",
   "metadata": {},
   "source": [
    "### 2.1 -Replace NAN for not indicated"
   ]
  },
  {
   "cell_type": "code",
   "execution_count": 56,
   "id": "ruled-samoa",
   "metadata": {},
   "outputs": [],
   "source": [
    "df_clean_not = preprocess.fill_categorical_na(['state','industry','subindustry','business_structure'],df_clean)"
   ]
  },
  {
   "cell_type": "code",
   "execution_count": 57,
   "id": "wired-desire",
   "metadata": {},
   "outputs": [
    {
     "data": {
      "text/plain": [
       "account_uuid          0\n",
       "product               0\n",
       "premium               0\n",
       "carrier_id            0\n",
       "convert               0\n",
       "state                 0\n",
       "industry              0\n",
       "subindustry           0\n",
       "year_established      0\n",
       "annual_revenue        0\n",
       "total_payroll         0\n",
       "business_structure    0\n",
       "num_employees         0\n",
       "dtype: int64"
      ]
     },
     "execution_count": 57,
     "metadata": {},
     "output_type": "execute_result"
    }
   ],
   "source": [
    "df_clean_not.isna().sum()"
   ]
  },
  {
   "cell_type": "markdown",
   "id": "greater-recycling",
   "metadata": {},
   "source": [
    "### 2.2 -Replace NAN with KnnImput"
   ]
  },
  {
   "cell_type": "code",
   "execution_count": 58,
   "id": "concrete-princess",
   "metadata": {},
   "outputs": [],
   "source": [
    "df_clean_knn = preprocess.fill_categorical_na(['state','industry','subindustry','business_structure'],df_clean,knn=True)"
   ]
  },
  {
   "cell_type": "code",
   "execution_count": 59,
   "id": "billion-psychiatry",
   "metadata": {},
   "outputs": [
    {
     "data": {
      "text/plain": [
       "account_uuid            0\n",
       "product                 0\n",
       "premium                 0\n",
       "carrier_id              0\n",
       "convert                 0\n",
       "state                  39\n",
       "industry              240\n",
       "subindustry           240\n",
       "year_established        0\n",
       "annual_revenue          0\n",
       "total_payroll           0\n",
       "business_structure      2\n",
       "num_employees           0\n",
       "state_ordered           0\n",
       "industry_ordered        0\n",
       "business_ordered        0\n",
       "product_ordered         0\n",
       "dtype: int64"
      ]
     },
     "execution_count": 59,
     "metadata": {},
     "output_type": "execute_result"
    }
   ],
   "source": [
    "df_clean_knn.isna().sum()"
   ]
  },
  {
   "cell_type": "markdown",
   "id": "awful-clone",
   "metadata": {},
   "source": [
    "## 3- OneHotEncoder Data"
   ]
  },
  {
   "cell_type": "markdown",
   "id": "fallen-circus",
   "metadata": {},
   "source": [
    "### 3.1 Encoder data for df_clean_not"
   ]
  },
  {
   "cell_type": "code",
   "execution_count": 60,
   "id": "chicken-commander",
   "metadata": {},
   "outputs": [],
   "source": [
    "from sklearn.model_selection import train_test_split"
   ]
  },
  {
   "cell_type": "code",
   "execution_count": 61,
   "id": "smooth-nylon",
   "metadata": {},
   "outputs": [],
   "source": [
    "features_to_encode = ['product', 'state', 'industry','business_structure']"
   ]
  },
  {
   "cell_type": "code",
   "execution_count": 62,
   "id": "behavioral-demand",
   "metadata": {},
   "outputs": [],
   "source": [
    "X_not = preprocess.encode_and_bind(df_clean_not.drop(['account_uuid','subindustry','convert'],axis=1), features_to_encode)\n",
    "X_not[X_not<0]=0\n",
    "Y_not = df_clean_not[['convert']]"
   ]
  },
  {
   "cell_type": "code",
   "execution_count": 63,
   "id": "prompt-ribbon",
   "metadata": {},
   "outputs": [],
   "source": [
    "X_train, X_test, y_train, y_test = train_test_split(X_not, Y_not, test_size= 0.2,shuffle=True,random_state =0)"
   ]
  },
  {
   "cell_type": "code",
   "execution_count": 64,
   "id": "dimensional-minority",
   "metadata": {},
   "outputs": [
    {
     "data": {
      "text/plain": [
       "((9371, 119), (2343, 119), (9371, 1), (2343, 1))"
      ]
     },
     "execution_count": 64,
     "metadata": {},
     "output_type": "execute_result"
    }
   ],
   "source": [
    "X_train.shape, X_test.shape, y_train.shape, y_test.shape"
   ]
  },
  {
   "cell_type": "code",
   "execution_count": 65,
   "id": "vanilla-proposal",
   "metadata": {},
   "outputs": [
    {
     "data": {
      "text/plain": [
       "1    5422\n",
       "0    3949\n",
       "Name: convert, dtype: int64"
      ]
     },
     "execution_count": 65,
     "metadata": {},
     "output_type": "execute_result"
    }
   ],
   "source": [
    "y_train.convert.value_counts()"
   ]
  },
  {
   "cell_type": "markdown",
   "id": "sought-values",
   "metadata": {},
   "source": [
    "### 3.2 Encoder data for df_clean_knn"
   ]
  },
  {
   "cell_type": "code",
   "execution_count": 66,
   "id": "indonesian-annual",
   "metadata": {},
   "outputs": [],
   "source": [
    "X_knn = df_clean_knn[['premium', 'carrier_id','year_established', 'annual_revenue',\n",
    "       'total_payroll','num_employees', 'state_ordered',\n",
    "       'industry_ordered', 'business_ordered', 'product_ordered']]\n",
    "Y_knn = df_clean_knn[['convert']]"
   ]
  },
  {
   "cell_type": "code",
   "execution_count": 67,
   "id": "returning-alberta",
   "metadata": {},
   "outputs": [],
   "source": [
    "X_binarize = X_knn.copy()"
   ]
  },
  {
   "cell_type": "code",
   "execution_count": 68,
   "id": "baking-workshop",
   "metadata": {},
   "outputs": [
    {
     "data": {
      "text/html": [
       "<div>\n",
       "<style scoped>\n",
       "    .dataframe tbody tr th:only-of-type {\n",
       "        vertical-align: middle;\n",
       "    }\n",
       "\n",
       "    .dataframe tbody tr th {\n",
       "        vertical-align: top;\n",
       "    }\n",
       "\n",
       "    .dataframe thead th {\n",
       "        text-align: right;\n",
       "    }\n",
       "</style>\n",
       "<table border=\"1\" class=\"dataframe\">\n",
       "  <thead>\n",
       "    <tr style=\"text-align: right;\">\n",
       "      <th></th>\n",
       "      <th>premium</th>\n",
       "      <th>carrier_id</th>\n",
       "      <th>year_established</th>\n",
       "      <th>annual_revenue</th>\n",
       "      <th>total_payroll</th>\n",
       "      <th>num_employees</th>\n",
       "      <th>state_ordered</th>\n",
       "      <th>industry_ordered</th>\n",
       "      <th>business_ordered</th>\n",
       "      <th>product_ordered</th>\n",
       "    </tr>\n",
       "  </thead>\n",
       "  <tbody>\n",
       "    <tr>\n",
       "      <th>0</th>\n",
       "      <td>8.370084</td>\n",
       "      <td>29.0</td>\n",
       "      <td>4.0</td>\n",
       "      <td>13.304685</td>\n",
       "      <td>11.002100</td>\n",
       "      <td>8.0</td>\n",
       "      <td>4.0</td>\n",
       "      <td>11.0</td>\n",
       "      <td>4.0</td>\n",
       "      <td>4.0</td>\n",
       "    </tr>\n",
       "    <tr>\n",
       "      <th>1</th>\n",
       "      <td>7.642524</td>\n",
       "      <td>9.0</td>\n",
       "      <td>4.0</td>\n",
       "      <td>10.555813</td>\n",
       "      <td>0.000000</td>\n",
       "      <td>0.0</td>\n",
       "      <td>28.0</td>\n",
       "      <td>9.0</td>\n",
       "      <td>1.0</td>\n",
       "      <td>19.0</td>\n",
       "    </tr>\n",
       "    <tr>\n",
       "      <th>2</th>\n",
       "      <td>6.408529</td>\n",
       "      <td>60.0</td>\n",
       "      <td>4.0</td>\n",
       "      <td>11.512925</td>\n",
       "      <td>0.000000</td>\n",
       "      <td>0.0</td>\n",
       "      <td>16.0</td>\n",
       "      <td>5.0</td>\n",
       "      <td>2.0</td>\n",
       "      <td>4.0</td>\n",
       "    </tr>\n",
       "    <tr>\n",
       "      <th>3</th>\n",
       "      <td>6.658011</td>\n",
       "      <td>22.0</td>\n",
       "      <td>5.0</td>\n",
       "      <td>14.731801</td>\n",
       "      <td>10.373491</td>\n",
       "      <td>1.0</td>\n",
       "      <td>4.0</td>\n",
       "      <td>4.0</td>\n",
       "      <td>3.0</td>\n",
       "      <td>14.0</td>\n",
       "    </tr>\n",
       "    <tr>\n",
       "      <th>4</th>\n",
       "      <td>9.218904</td>\n",
       "      <td>29.0</td>\n",
       "      <td>9.0</td>\n",
       "      <td>11.512925</td>\n",
       "      <td>11.002100</td>\n",
       "      <td>3.0</td>\n",
       "      <td>31.0</td>\n",
       "      <td>5.0</td>\n",
       "      <td>4.0</td>\n",
       "      <td>14.0</td>\n",
       "    </tr>\n",
       "  </tbody>\n",
       "</table>\n",
       "</div>"
      ],
      "text/plain": [
       "    premium  carrier_id  year_established  annual_revenue  total_payroll  \\\n",
       "0  8.370084        29.0               4.0       13.304685      11.002100   \n",
       "1  7.642524         9.0               4.0       10.555813       0.000000   \n",
       "2  6.408529        60.0               4.0       11.512925       0.000000   \n",
       "3  6.658011        22.0               5.0       14.731801      10.373491   \n",
       "4  9.218904        29.0               9.0       11.512925      11.002100   \n",
       "\n",
       "   num_employees  state_ordered  industry_ordered  business_ordered  \\\n",
       "0            8.0            4.0              11.0               4.0   \n",
       "1            0.0           28.0               9.0               1.0   \n",
       "2            0.0           16.0               5.0               2.0   \n",
       "3            1.0            4.0               4.0               3.0   \n",
       "4            3.0           31.0               5.0               4.0   \n",
       "\n",
       "   product_ordered  \n",
       "0              4.0  \n",
       "1             19.0  \n",
       "2              4.0  \n",
       "3             14.0  \n",
       "4             14.0  "
      ]
     },
     "execution_count": 68,
     "metadata": {},
     "output_type": "execute_result"
    }
   ],
   "source": [
    "X_knn.head()"
   ]
  },
  {
   "cell_type": "code",
   "execution_count": 69,
   "id": "working-upgrade",
   "metadata": {},
   "outputs": [],
   "source": [
    "X_binarize[['state_ordered','industry_ordered', 'business_ordered', 'product_ordered']]= X_binarize[['state_ordered','industry_ordered', 'business_ordered', 'product_ordered']].astype(\"category\")"
   ]
  },
  {
   "cell_type": "code",
   "execution_count": 70,
   "id": "designed-enterprise",
   "metadata": {},
   "outputs": [],
   "source": [
    "X_binarize = pd.get_dummies(X_binarize)\n",
    "X_binarize[X_binarize<0] = 0"
   ]
  },
  {
   "cell_type": "code",
   "execution_count": 71,
   "id": "champion-court",
   "metadata": {},
   "outputs": [],
   "source": [
    "X_train_knn, X_test_knn, y_train_knn, y_test_knn = train_test_split(X_binarize, Y_knn, test_size= 0.2,shuffle=True,random_state =0)"
   ]
  },
  {
   "cell_type": "code",
   "execution_count": 72,
   "id": "obvious-museum",
   "metadata": {},
   "outputs": [
    {
     "data": {
      "text/plain": [
       "((9371, 139), (2343, 139), (9371, 1), (2343, 1))"
      ]
     },
     "execution_count": 72,
     "metadata": {},
     "output_type": "execute_result"
    }
   ],
   "source": [
    "X_train_knn.shape, X_test_knn.shape, y_train_knn.shape, y_test_knn.shape"
   ]
  },
  {
   "cell_type": "code",
   "execution_count": 73,
   "id": "floating-european",
   "metadata": {},
   "outputs": [
    {
     "data": {
      "text/plain": [
       "1.0    5422\n",
       "0.0    3949\n",
       "Name: convert, dtype: int64"
      ]
     },
     "execution_count": 73,
     "metadata": {},
     "output_type": "execute_result"
    }
   ],
   "source": [
    "y_train_knn.convert.value_counts()"
   ]
  },
  {
   "cell_type": "markdown",
   "id": "static-version",
   "metadata": {},
   "source": [
    "# Train a Model"
   ]
  },
  {
   "cell_type": "code",
   "execution_count": 74,
   "id": "exotic-surname",
   "metadata": {},
   "outputs": [],
   "source": [
    "from sklearn.model_selection import cross_val_score\n",
    "from sklearn.model_selection import cross_val_predict\n",
    "from sklearn.model_selection import train_test_split\n",
    "from sklearn.model_selection import KFold\n",
    "from sklearn.model_selection import GridSearchCV\n",
    "from sklearn.model_selection import RandomizedSearchCV\n",
    "\n",
    "from sklearn.linear_model import LogisticRegression\n",
    "from sklearn.naive_bayes import MultinomialNB\n",
    "from sklearn.naive_bayes import GaussianNB\n",
    "from sklearn.naive_bayes import BernoulliNB\n",
    "from sklearn.svm import SVC\n",
    "from sklearn.neural_network import MLPClassifier\n",
    "from sklearn.ensemble import AdaBoostClassifier\n",
    "from sklearn.tree import DecisionTreeClassifier\n",
    "from sklearn.ensemble import RandomForestClassifier\n",
    "from sklearn.ensemble import GradientBoostingClassifier\n",
    "from xgboost import XGBClassifier\n",
    "\n",
    "from sklearn import metrics\n",
    "from sklearn.metrics import classification_report\n",
    "from sklearn.metrics import confusion_matrix\n",
    "from sklearn.metrics import accuracy_score, confusion_matrix, precision_score, recall_score, roc_auc_score, roc_curve, f1_score"
   ]
  },
  {
   "cell_type": "markdown",
   "id": "ruled-stylus",
   "metadata": {},
   "source": [
    "### Try Difference Clasifier "
   ]
  },
  {
   "cell_type": "code",
   "execution_count": 75,
   "id": "mighty-webcam",
   "metadata": {},
   "outputs": [],
   "source": [
    "clfs = {\n",
    "    'mnb': MultinomialNB(),\n",
    "    'gnb': GaussianNB(),\n",
    "    'mlp1': MLPClassifier(),\n",
    "    'mlp2': MLPClassifier(activation='logistic', solver='adam', alpha=0.1, hidden_layer_sizes=(100, ), learning_rate= 'adaptive' ,random_state=1, max_iter=300),\n",
    "    'ada': AdaBoostClassifier(),\n",
    "    'dtc': DecisionTreeClassifier(),\n",
    "    'rfc': RandomForestClassifier(),\n",
    "    'gbc': GradientBoostingClassifier(),\n",
    "    'lr': LogisticRegression(),\n",
    "    'xgb': XGBClassifier()\n",
    "}"
   ]
  },
  {
   "cell_type": "markdown",
   "id": "timely-centre",
   "metadata": {},
   "source": [
    "### Train with df_clean_not"
   ]
  },
  {
   "cell_type": "code",
   "execution_count": 76,
   "id": "addressed-bikini",
   "metadata": {},
   "outputs": [
    {
     "name": "stdout",
     "output_type": "stream",
     "text": [
      "Clasifier : mnb\n",
      "Clasifier : gnb\n",
      "Clasifier : mlp1\n",
      "Clasifier : mlp2\n",
      "Clasifier : ada\n",
      "Clasifier : dtc\n",
      "Clasifier : rfc\n",
      "Clasifier : gbc\n",
      "Clasifier : lr\n",
      "Clasifier : xgb\n",
      "[17:24:29] WARNING: C:/Users/Administrator/workspace/xgboost-win64_release_1.3.0/src/learner.cc:1061: Starting in XGBoost 1.3.0, the default evaluation metric used with the objective 'binary:logistic' was changed from 'error' to 'logloss'. Explicitly set eval_metric if you'd like to restore the old behavior.\n"
     ]
    }
   ],
   "source": [
    "f1_scores = dict()\n",
    "for clf_name in clfs:\n",
    "    print(f'Clasifier : {clf_name}')\n",
    "    clf = clfs[clf_name]\n",
    "    clf.fit(X_train, y_train)\n",
    "    y_pred = clf.predict(X_test)\n",
    "    f1_scores[clf_name] = f1_score(y_pred, y_test)"
   ]
  },
  {
   "cell_type": "code",
   "execution_count": 77,
   "id": "careful-revision",
   "metadata": {},
   "outputs": [
    {
     "name": "stdout",
     "output_type": "stream",
     "text": [
      "The best model is gbc with f1_score :0.7665726375176306\n"
     ]
    }
   ],
   "source": [
    "best_model = max(f1_scores, key=f1_scores.get)\n",
    "print(f'The best model is {best_model} with f1_score :{f1_scores[best_model]}')"
   ]
  },
  {
   "cell_type": "markdown",
   "id": "nuclear-maine",
   "metadata": {},
   "source": [
    "### Training gbc with some hyperameters"
   ]
  },
  {
   "cell_type": "code",
   "execution_count": 78,
   "id": "disturbed-google",
   "metadata": {},
   "outputs": [
    {
     "name": "stdout",
     "output_type": "stream",
     "text": [
      "\n",
      "0.7694986072423398\n",
      "0.752328684960264\n",
      "\n",
      "0.7642732049036778\n",
      "0.7520115459589144\n",
      "\n",
      "0.7665726375176306\n",
      "0.7527481631429002\n"
     ]
    }
   ],
   "source": [
    "for i in [0.08,0.085,0.1]:\n",
    "    clf =GradientBoostingClassifier(learning_rate=i)\n",
    "    clf.fit(X_train, y_train)\n",
    "    pred = clf.predict(X_test)\n",
    "    proba = clf.predict_proba(X_test)\n",
    "    print()\n",
    "    print(f1_score(y_test,pred))\n",
    "    print(roc_auc_score(y_test,proba[:,1]))"
   ]
  },
  {
   "cell_type": "code",
   "execution_count": 79,
   "id": "portuguese-spotlight",
   "metadata": {},
   "outputs": [
    {
     "name": "stdout",
     "output_type": "stream",
     "text": [
      "              precision    recall  f1-score   support\n",
      "\n",
      "           0       0.59      0.69      0.64       839\n",
      "           1       0.81      0.73      0.77      1504\n",
      "\n",
      "    accuracy                           0.72      2343\n",
      "   macro avg       0.70      0.71      0.70      2343\n",
      "weighted avg       0.73      0.72      0.72      2343\n",
      "\n"
     ]
    }
   ],
   "source": [
    "clf_not =GradientBoostingClassifier(learning_rate=0.08)\n",
    "clf_not.fit(X_train, y_train)\n",
    "pred_not = clf_not.predict(X_test)\n",
    "print(classification_report(pred_not, y_test))"
   ]
  },
  {
   "cell_type": "code",
   "execution_count": 80,
   "id": "protective-twelve",
   "metadata": {},
   "outputs": [
    {
     "data": {
      "text/plain": [
       "<sklearn.metrics._plot.confusion_matrix.ConfusionMatrixDisplay at 0x1caa6285748>"
      ]
     },
     "execution_count": 80,
     "metadata": {},
     "output_type": "execute_result"
    },
    {
     "data": {
      "image/png": "[encoded data removed]",
      "text/plain": [
       "<Figure size 432x288 with 2 Axes>"
      ]
     },
     "metadata": {
      "needs_background": "light"
     },
     "output_type": "display_data"
    }
   ],
   "source": [
    "metrics.plot_confusion_matrix(clf_not, X_test, y_test,cmap=plt.cm.Blues)"
   ]
  },
  {
   "cell_type": "code",
   "execution_count": 81,
   "id": "radio-outline",
   "metadata": {},
   "outputs": [],
   "source": [
    "proba_pred = clf_not.predict_proba(X_test)\n",
    "fpr, tpr, thresh = roc_curve(y_test,proba_pred[:,1])\n",
    "auc = roc_auc_score(y_test,proba_pred[:,1])"
   ]
  },
  {
   "cell_type": "code",
   "execution_count": 82,
   "id": "bound-minute",
   "metadata": {},
   "outputs": [
    {
     "data": {
      "image/png": "[encoded data removed]",
      "text/plain": [
       "<Figure size 432x288 with 1 Axes>"
      ]
     },
     "metadata": {
      "needs_background": "light"
     },
     "output_type": "display_data"
    }
   ],
   "source": [
    "plt.figure()\n",
    "lw=2\n",
    "plt.plot(fpr,tpr, color='darkorange',lw=lw,label='ROC curve (area=%0.2f)' %auc)\n",
    "plt.plot([0,1],[0,1], color='grey', linestyle='--')\n",
    "plt.xlim([0.0, 1.0])\n",
    "plt.ylim([0.0,1.05])\n",
    "plt.xlabel('False positive rate')\n",
    "plt.ylabel('True positive rate')\n",
    "plt.title('ROC')\n",
    "plt.legend(loc='lower right')\n",
    "plt.show()"
   ]
  },
  {
   "cell_type": "markdown",
   "id": "opponent-professional",
   "metadata": {},
   "source": [
    "### Train with df_clean_knn"
   ]
  },
  {
   "cell_type": "code",
   "execution_count": 83,
   "id": "surprised-policy",
   "metadata": {},
   "outputs": [
    {
     "name": "stdout",
     "output_type": "stream",
     "text": [
      "Clasifier : mnb\n",
      "Clasifier : gnb\n",
      "Clasifier : mlp1\n",
      "Clasifier : mlp2\n",
      "Clasifier : ada\n",
      "Clasifier : dtc\n",
      "Clasifier : rfc\n",
      "Clasifier : gbc\n",
      "Clasifier : lr\n",
      "Clasifier : xgb\n",
      "[17:25:35] WARNING: C:/Users/Administrator/workspace/xgboost-win64_release_1.3.0/src/learner.cc:1061: Starting in XGBoost 1.3.0, the default evaluation metric used with the objective 'binary:logistic' was changed from 'error' to 'logloss'. Explicitly set eval_metric if you'd like to restore the old behavior.\n"
     ]
    }
   ],
   "source": [
    "f1_scores = dict()\n",
    "for clf_name in clfs:\n",
    "    print(f'Clasifier : {clf_name}')\n",
    "    clf = clfs[clf_name]\n",
    "    clf.fit(X_train_knn, y_train_knn)\n",
    "    y_pred = clf.predict(X_test_knn)\n",
    "    f1_scores[clf_name] = f1_score(y_pred, y_test_knn)"
   ]
  },
  {
   "cell_type": "code",
   "execution_count": 84,
   "id": "waiting-campaign",
   "metadata": {},
   "outputs": [
    {
     "name": "stdout",
     "output_type": "stream",
     "text": [
      "The best model is gbc with f1_score :0.7636746143057505\n"
     ]
    }
   ],
   "source": [
    "best_model = max(f1_scores, key=f1_scores.get)\n",
    "print(f'The best model is {best_model} with f1_score :{f1_scores[best_model]}')\n"
   ]
  },
  {
   "cell_type": "markdown",
   "id": "cultural-compatibility",
   "metadata": {},
   "source": [
    "### Training gbc with some hyperameters"
   ]
  },
  {
   "cell_type": "code",
   "execution_count": 85,
   "id": "other-worker",
   "metadata": {},
   "outputs": [
    {
     "name": "stdout",
     "output_type": "stream",
     "text": [
      "              precision    recall  f1-score   support\n",
      "\n",
      "         0.0       0.60      0.68      0.63       861\n",
      "         1.0       0.80      0.73      0.76      1482\n",
      "\n",
      "    accuracy                           0.71      2343\n",
      "   macro avg       0.70      0.71      0.70      2343\n",
      "weighted avg       0.72      0.71      0.72      2343\n",
      "\n"
     ]
    }
   ],
   "source": [
    "clf_ =GradientBoostingClassifier(learning_rate=0.08)\n",
    "clf_.fit(X_train_knn, y_train_knn)\n",
    "pred_ = clf_.predict(X_test_knn)\n",
    "\n",
    "print(classification_report(pred_, y_test_knn))"
   ]
  },
  {
   "cell_type": "code",
   "execution_count": 86,
   "id": "square-phase",
   "metadata": {},
   "outputs": [
    {
     "data": {
      "text/plain": [
       "<sklearn.metrics._plot.confusion_matrix.ConfusionMatrixDisplay at 0x1caa5cc6d30>"
      ]
     },
     "execution_count": 86,
     "metadata": {},
     "output_type": "execute_result"
    },
    {
     "data": {
      "image/png": "[encoded data removed]",
      "text/plain": [
       "<Figure size 432x288 with 2 Axes>"
      ]
     },
     "metadata": {
      "needs_background": "light"
     },
     "output_type": "display_data"
    }
   ],
   "source": [
    "metrics.plot_confusion_matrix(clf_, X_test_knn, y_test_knn,cmap=plt.cm.Blues)"
   ]
  },
  {
   "cell_type": "code",
   "execution_count": 87,
   "id": "magnetic-thirty",
   "metadata": {},
   "outputs": [],
   "source": [
    "proba_pred_ = clf_.predict_proba(X_test_knn)\n",
    "fpr_, tpr_, thresh_ = roc_curve(y_test_knn,proba_pred_[:,1])\n",
    "auc_ = roc_auc_score(y_test_knn,proba_pred_[:,1])"
   ]
  },
  {
   "cell_type": "code",
   "execution_count": 88,
   "id": "precious-frank",
   "metadata": {},
   "outputs": [
    {
     "data": {
      "image/png": "[encoded data removed]",
      "text/plain": [
       "<Figure size 432x288 with 1 Axes>"
      ]
     },
     "metadata": {
      "needs_background": "light"
     },
     "output_type": "display_data"
    }
   ],
   "source": [
    "plt.figure()\n",
    "lw=2\n",
    "plt.plot(fpr_,tpr_, color='darkorange',lw=lw,label='ROC curve (area=%0.2f)' %auc_)\n",
    "plt.plot([0,1],[0,1], color='grey', linestyle='--')\n",
    "plt.xlim([0.0, 1.0])\n",
    "plt.ylim([0.0,1.05])\n",
    "plt.xlabel('False positive rate')\n",
    "plt.ylabel('True positive rate')\n",
    "plt.title('ROC')\n",
    "plt.legend(loc='lower right')\n",
    "plt.show()"
   ]
  },
  {
   "cell_type": "markdown",
   "id": "blessed-marking",
   "metadata": {},
   "source": [
    "### Trainign A LSTM with df_clean_not"
   ]
  },
  {
   "cell_type": "code",
   "execution_count": 89,
   "id": "rental-blackjack",
   "metadata": {},
   "outputs": [],
   "source": [
    "from keras.models import Sequential\n",
    "from keras.layers import LSTM,Dense,Dropout,Embedding,Bidirectional\n",
    "from keras.models import Sequential\n",
    "from keras import layers\n",
    "from keras import Input\n",
    "from keras import Model\n",
    "from keras.wrappers.scikit_learn import KerasClassifier\n",
    "from keras.callbacks import ModelCheckpoint, EarlyStopping\n",
    "from keras.models import load_model"
   ]
  },
  {
   "cell_type": "code",
   "execution_count": 90,
   "id": "objective-wisdom",
   "metadata": {},
   "outputs": [
    {
     "name": "stdout",
     "output_type": "stream",
     "text": [
      "(9371, 1, 119)\n"
     ]
    }
   ],
   "source": [
    "X_train_lstm = X_train.to_numpy().reshape(X_train.shape[0], 1, X_train.shape[1])\n",
    "X_test_lstm = X_test.to_numpy().reshape(X_test.shape[0], 1, X_test.shape[1])\n",
    "print(X_train_lstm.shape)"
   ]
  },
  {
   "cell_type": "code",
   "execution_count": 91,
   "id": "atomic-biotechnology",
   "metadata": {},
   "outputs": [
    {
     "data": {
      "text/plain": [
       "119"
      ]
     },
     "execution_count": 91,
     "metadata": {},
     "output_type": "execute_result"
    }
   ],
   "source": [
    "data_dim = X_train_lstm.shape[2]\n",
    "data_dim"
   ]
  },
  {
   "cell_type": "code",
   "execution_count": 92,
   "id": "responsible-lecture",
   "metadata": {},
   "outputs": [],
   "source": [
    "model_checkpoint_lstm = ModelCheckpoint('../../models/lstm_model.h5', verbose=1, save_best_only=True)"
   ]
  },
  {
   "cell_type": "code",
   "execution_count": 93,
   "id": "arranged-peter",
   "metadata": {},
   "outputs": [
    {
     "name": "stdout",
     "output_type": "stream",
     "text": [
      "WARNING:tensorflow:From c:\\users\\lw946lh\\appdata\\local\\continuum\\anaconda3\\envs\\testcw_\\lib\\site-packages\\tensorflow\\python\\ops\\nn_impl.py:180: add_dispatch_support.<locals>.wrapper (from tensorflow.python.ops.array_ops) is deprecated and will be removed in a future version.\n",
      "Instructions for updating:\n",
      "Use tf.where in 2.0, which has the same broadcast rule as np.where\n"
     ]
    },
    {
     "name": "stderr",
     "output_type": "stream",
     "text": [
      "[2021-01-20][17:25:42][tensorflow][WARNING] From c:\\users\\lw946lh\\appdata\\local\\continuum\\anaconda3\\envs\\testcw_\\lib\\site-packages\\tensorflow\\python\\ops\\nn_impl.py:180: add_dispatch_support.<locals>.wrapper (from tensorflow.python.ops.array_ops) is deprecated and will be removed in a future version.\n",
      "Instructions for updating:\n",
      "Use tf.where in 2.0, which has the same broadcast rule as np.where\n"
     ]
    }
   ],
   "source": [
    "model_lstm = Sequential()\n",
    "model_lstm.add(LSTM(200, input_shape=(None, data_dim),return_sequences=True))\n",
    "model_lstm.add(Dropout(0.2))\n",
    "model_lstm.add(Bidirectional(LSTM(100,return_sequences=True,activation='sigmoid')))\n",
    "model_lstm.add(Dropout(0.2))\n",
    "model_lstm.add(Bidirectional(LSTM(50,activation='sigmoid')))\n",
    "model_lstm.add(Dropout(0.5))\n",
    "model_lstm.add(Dense(1, activation='sigmoid'))\n",
    "model_lstm.compile(loss='binary_crossentropy', optimizer='adam', metrics = ['accuracy'])"
   ]
  },
  {
   "cell_type": "code",
   "execution_count": 94,
   "id": "generic-profession",
   "metadata": {},
   "outputs": [
    {
     "name": "stdout",
     "output_type": "stream",
     "text": [
      "Model: \"sequential_1\"\n",
      "_________________________________________________________________\n",
      "Layer (type)                 Output Shape              Param #   \n",
      "=================================================================\n",
      "lstm_1 (LSTM)                (None, None, 200)         256000    \n",
      "_________________________________________________________________\n",
      "dropout_1 (Dropout)          (None, None, 200)         0         \n",
      "_________________________________________________________________\n",
      "bidirectional_1 (Bidirection (None, None, 200)         240800    \n",
      "_________________________________________________________________\n",
      "dropout_2 (Dropout)          (None, None, 200)         0         \n",
      "_________________________________________________________________\n",
      "bidirectional_2 (Bidirection (None, 100)               100400    \n",
      "_________________________________________________________________\n",
      "dropout_3 (Dropout)          (None, 100)               0         \n",
      "_________________________________________________________________\n",
      "dense_1 (Dense)              (None, 1)                 101       \n",
      "=================================================================\n",
      "Total params: 597,301\n",
      "Trainable params: 597,301\n",
      "Non-trainable params: 0\n",
      "_________________________________________________________________\n"
     ]
    }
   ],
   "source": [
    "model_lstm.summary()"
   ]
  },
  {
   "cell_type": "code",
   "execution_count": 95,
   "id": "respective-thumb",
   "metadata": {},
   "outputs": [],
   "source": [
    "pat = 5 \n",
    "early_stopping = EarlyStopping(monitor='val_loss', patience=pat, verbose=1)"
   ]
  },
  {
   "cell_type": "code",
   "execution_count": 96,
   "id": "worst-anniversary",
   "metadata": {},
   "outputs": [],
   "source": [
    "def fit_and_evaluate_lstm(t_x, val_x, t_y, val_y, EPOCHS=20, BATCH_SIZE=128):\n",
    "    model = None\n",
    "    model = model_lstm\n",
    "    results = model.fit(t_x, t_y, epochs=EPOCHS, batch_size=BATCH_SIZE, callbacks=[early_stopping, model_checkpoint_lstm], \n",
    "              verbose=1, validation_split=0.1)  \n",
    "    print(\"Val Score: \", model.evaluate(val_x, val_y))\n",
    "    return results"
   ]
  },
  {
   "cell_type": "code",
   "execution_count": 97,
   "id": "copyrighted-range",
   "metadata": {},
   "outputs": [
    {
     "name": "stdout",
     "output_type": "stream",
     "text": [
      "Training on Fold:  1\n",
      "WARNING:tensorflow:From c:\\users\\lw946lh\\appdata\\local\\continuum\\anaconda3\\envs\\testcw_\\lib\\site-packages\\keras\\backend\\tensorflow_backend.py:422: The name tf.global_variables is deprecated. Please use tf.compat.v1.global_variables instead.\n",
      "\n"
     ]
    },
    {
     "name": "stderr",
     "output_type": "stream",
     "text": [
      "[2021-01-20][17:25:47][tensorflow][WARNING] From c:\\users\\lw946lh\\appdata\\local\\continuum\\anaconda3\\envs\\testcw_\\lib\\site-packages\\keras\\backend\\tensorflow_backend.py:422: The name tf.global_variables is deprecated. Please use tf.compat.v1.global_variables instead.\n",
      "\n"
     ]
    },
    {
     "name": "stdout",
     "output_type": "stream",
     "text": [
      "Train on 7589 samples, validate on 844 samples\n",
      "Epoch 1/20\n",
      "7589/7589 [==============================] - 4s 547us/step - loss: 0.6948 - accuracy: 0.5524 - val_loss: 0.6643 - val_accuracy: 0.6197\n",
      "\n",
      "Epoch 00001: val_loss improved from inf to 0.66430, saving model to ../../models/lstm_model.h5\n",
      "Epoch 2/20\n",
      "7589/7589 [==============================] - 2s 233us/step - loss: 0.6764 - accuracy: 0.5814 - val_loss: 0.6509 - val_accuracy: 0.6540\n",
      "\n",
      "Epoch 00002: val_loss improved from 0.66430 to 0.65085, saving model to ../../models/lstm_model.h5\n",
      "Epoch 3/20\n",
      "7589/7589 [==============================] - 2s 228us/step - loss: 0.6577 - accuracy: 0.6162 - val_loss: 0.6354 - val_accuracy: 0.6588\n",
      "\n",
      "Epoch 00003: val_loss improved from 0.65085 to 0.63544, saving model to ../../models/lstm_model.h5\n",
      "Epoch 4/20\n",
      "7589/7589 [==============================] - 2s 209us/step - loss: 0.6443 - accuracy: 0.6412 - val_loss: 0.6188 - val_accuracy: 0.6671\n",
      "\n",
      "Epoch 00004: val_loss improved from 0.63544 to 0.61884, saving model to ../../models/lstm_model.h5\n",
      "Epoch 5/20\n",
      "7589/7589 [==============================] - ETA: 0s - loss: 0.6303 - accuracy: 0.65 - 2s 218us/step - loss: 0.6305 - accuracy: 0.6561 - val_loss: 0.6118 - val_accuracy: 0.6623\n",
      "\n",
      "Epoch 00005: val_loss improved from 0.61884 to 0.61179, saving model to ../../models/lstm_model.h5\n",
      "Epoch 6/20\n",
      "7589/7589 [==============================] - 2s 199us/step - loss: 0.6212 - accuracy: 0.6610 - val_loss: 0.6101 - val_accuracy: 0.6706\n",
      "\n",
      "Epoch 00006: val_loss improved from 0.61179 to 0.61006, saving model to ../../models/lstm_model.h5\n",
      "Epoch 7/20\n",
      "7589/7589 [==============================] - 2s 208us/step - loss: 0.6200 - accuracy: 0.6716 - val_loss: 0.6140 - val_accuracy: 0.6706\n",
      "\n",
      "Epoch 00007: val_loss did not improve from 0.61006\n",
      "Epoch 8/20\n",
      "7589/7589 [==============================] - 1s 185us/step - loss: 0.6123 - accuracy: 0.6787 - val_loss: 0.6101 - val_accuracy: 0.6718\n",
      "\n",
      "Epoch 00008: val_loss did not improve from 0.61006\n",
      "Epoch 9/20\n",
      "7589/7589 [==============================] - 2s 210us/step - loss: 0.6089 - accuracy: 0.6785 - val_loss: 0.6081 - val_accuracy: 0.6718\n",
      "\n",
      "Epoch 00009: val_loss improved from 0.61006 to 0.60810, saving model to ../../models/lstm_model.h5\n",
      "Epoch 10/20\n",
      "7589/7589 [==============================] - 2s 205us/step - loss: 0.6064 - accuracy: 0.6787 - val_loss: 0.6070 - val_accuracy: 0.6682\n",
      "\n",
      "Epoch 00010: val_loss improved from 0.60810 to 0.60700, saving model to ../../models/lstm_model.h5\n",
      "Epoch 11/20\n",
      "7589/7589 [==============================] - 1s 182us/step - loss: 0.5996 - accuracy: 0.6820 - val_loss: 0.6073 - val_accuracy: 0.6647\n",
      "\n",
      "Epoch 00011: val_loss did not improve from 0.60700\n",
      "Epoch 12/20\n",
      "7589/7589 [==============================] - 1s 169us/step - loss: 0.5982 - accuracy: 0.6888 - val_loss: 0.6090 - val_accuracy: 0.6694\n",
      "\n",
      "Epoch 00012: val_loss did not improve from 0.60700\n",
      "Epoch 13/20\n",
      "7589/7589 [==============================] - 1s 175us/step - loss: 0.5952 - accuracy: 0.6820 - val_loss: 0.6051 - val_accuracy: 0.6623\n",
      "\n",
      "Epoch 00013: val_loss improved from 0.60700 to 0.60506, saving model to ../../models/lstm_model.h5\n",
      "Epoch 14/20\n",
      "7589/7589 [==============================] - 2s 201us/step - loss: 0.5950 - accuracy: 0.6874 - val_loss: 0.6064 - val_accuracy: 0.6564\n",
      "\n",
      "Epoch 00014: val_loss did not improve from 0.60506\n",
      "Epoch 15/20\n",
      "7589/7589 [==============================] - 1s 192us/step - loss: 0.5908 - accuracy: 0.6907 - val_loss: 0.6024 - val_accuracy: 0.6765\n",
      "\n",
      "Epoch 00015: val_loss improved from 0.60506 to 0.60237, saving model to ../../models/lstm_model.h5\n",
      "Epoch 16/20\n",
      "7589/7589 [==============================] - 1s 196us/step - loss: 0.5846 - accuracy: 0.6980 - val_loss: 0.6221 - val_accuracy: 0.6386\n",
      "\n",
      "Epoch 00016: val_loss did not improve from 0.60237\n",
      "Epoch 17/20\n",
      "7589/7589 [==============================] - 1s 190us/step - loss: 0.5908 - accuracy: 0.6880 - val_loss: 0.6041 - val_accuracy: 0.6706\n",
      "\n",
      "Epoch 00017: val_loss did not improve from 0.60237\n",
      "Epoch 18/20\n",
      "7589/7589 [==============================] - 1s 194us/step - loss: 0.5829 - accuracy: 0.6903 - val_loss: 0.5949 - val_accuracy: 0.6647\n",
      "\n",
      "Epoch 00018: val_loss improved from 0.60237 to 0.59486, saving model to ../../models/lstm_model.h5\n",
      "Epoch 19/20\n",
      "7589/7589 [==============================] - 1s 186us/step - loss: 0.5823 - accuracy: 0.6947 - val_loss: 0.6039 - val_accuracy: 0.6600\n",
      "\n",
      "Epoch 00019: val_loss did not improve from 0.59486\n",
      "Epoch 20/20\n",
      "7589/7589 [==============================] - 1s 169us/step - loss: 0.5763 - accuracy: 0.6953 - val_loss: 0.6097 - val_accuracy: 0.6754\n",
      "\n",
      "Epoch 00020: val_loss did not improve from 0.59486\n",
      "938/938 [==============================] - 0s 103us/step\n",
      "Val Score:  [0.6268548652815666, 0.6652451753616333]\n",
      "====================================================================================\n",
      "\n",
      "\n",
      "Training on Fold:  2\n",
      "Train on 7589 samples, validate on 844 samples\n",
      "Epoch 1/20\n",
      "7589/7589 [==============================] - 1s 164us/step - loss: 0.5856 - accuracy: 0.6927 - val_loss: 0.5810 - val_accuracy: 0.6943\n",
      "\n",
      "Epoch 00001: val_loss improved from 0.59486 to 0.58097, saving model to ../../models/lstm_model.h5\n",
      "Epoch 2/20\n",
      "7589/7589 [==============================] - 1s 177us/step - loss: 0.5869 - accuracy: 0.6918 - val_loss: 0.5729 - val_accuracy: 0.6979\n",
      "\n",
      "Epoch 00002: val_loss improved from 0.58097 to 0.57290, saving model to ../../models/lstm_model.h5\n",
      "Epoch 3/20\n",
      "7589/7589 [==============================] - 2s 208us/step - loss: 0.5782 - accuracy: 0.6957 - val_loss: 0.5695 - val_accuracy: 0.6955\n",
      "\n",
      "Epoch 00003: val_loss improved from 0.57290 to 0.56953, saving model to ../../models/lstm_model.h5\n",
      "Epoch 4/20\n",
      "7589/7589 [==============================] - 1s 197us/step - loss: 0.5747 - accuracy: 0.7015 - val_loss: 0.5938 - val_accuracy: 0.6801\n",
      "\n",
      "Epoch 00004: val_loss did not improve from 0.56953\n",
      "Epoch 5/20\n",
      "7589/7589 [==============================] - 1s 184us/step - loss: 0.5753 - accuracy: 0.6997 - val_loss: 0.5740 - val_accuracy: 0.6943\n",
      "\n",
      "Epoch 00005: val_loss did not improve from 0.56953\n",
      "Epoch 6/20\n",
      "7589/7589 [==============================] - 1s 173us/step - loss: 0.5692 - accuracy: 0.7059 - val_loss: 0.5738 - val_accuracy: 0.7026\n",
      "\n",
      "Epoch 00006: val_loss did not improve from 0.56953\n",
      "Epoch 7/20\n",
      "7589/7589 [==============================] - 1s 170us/step - loss: 0.5714 - accuracy: 0.7050 - val_loss: 0.5811 - val_accuracy: 0.6931\n",
      "\n",
      "Epoch 00007: val_loss did not improve from 0.56953\n",
      "Epoch 8/20\n",
      "7589/7589 [==============================] - 1s 174us/step - loss: 0.5695 - accuracy: 0.7054 - val_loss: 0.5982 - val_accuracy: 0.6706\n",
      "\n",
      "Epoch 00008: val_loss did not improve from 0.56953\n",
      "Epoch 00008: early stopping\n",
      "938/938 [==============================] - 0s 110us/step\n",
      "Val Score:  [0.6085720162656008, 0.6727079153060913]\n",
      "====================================================================================\n",
      "\n",
      "\n",
      "Training on Fold:  3\n",
      "Train on 7589 samples, validate on 844 samples\n",
      "Epoch 1/20\n",
      "7589/7589 [==============================] - 1s 180us/step - loss: 0.5761 - accuracy: 0.6997 - val_loss: 0.5594 - val_accuracy: 0.7085\n",
      "\n",
      "Epoch 00001: val_loss improved from 0.56953 to 0.55936, saving model to ../../models/lstm_model.h5\n",
      "Epoch 2/20\n",
      "7589/7589 [==============================] - 2s 205us/step - loss: 0.5712 - accuracy: 0.7093 - val_loss: 0.5509 - val_accuracy: 0.7062\n",
      "\n",
      "Epoch 00002: val_loss improved from 0.55936 to 0.55088, saving model to ../../models/lstm_model.h5\n",
      "Epoch 3/20\n",
      "7589/7589 [==============================] - 1s 172us/step - loss: 0.5698 - accuracy: 0.7065 - val_loss: 0.5509 - val_accuracy: 0.7062\n",
      "\n",
      "Epoch 00003: val_loss improved from 0.55088 to 0.55086, saving model to ../../models/lstm_model.h5\n",
      "Epoch 4/20\n",
      "7589/7589 [==============================] - 2s 209us/step - loss: 0.5687 - accuracy: 0.7101 - val_loss: 0.5598 - val_accuracy: 0.7192\n",
      "\n",
      "Epoch 00004: val_loss did not improve from 0.55086\n",
      "Epoch 5/20\n",
      "7589/7589 [==============================] - 2s 210us/step - loss: 0.5618 - accuracy: 0.7106 - val_loss: 0.5553 - val_accuracy: 0.7062\n",
      "\n",
      "Epoch 00005: val_loss did not improve from 0.55086\n",
      "Epoch 6/20\n",
      "7589/7589 [==============================] - 2s 216us/step - loss: 0.5600 - accuracy: 0.7164 - val_loss: 0.5634 - val_accuracy: 0.7038\n",
      "\n",
      "Epoch 00006: val_loss did not improve from 0.55086\n",
      "Epoch 7/20\n"
     ]
    },
    {
     "name": "stdout",
     "output_type": "stream",
     "text": [
      "7589/7589 [==============================] - 2s 215us/step - loss: 0.5605 - accuracy: 0.7156 - val_loss: 0.5580 - val_accuracy: 0.7038\n",
      "\n",
      "Epoch 00007: val_loss did not improve from 0.55086\n",
      "Epoch 8/20\n",
      "7589/7589 [==============================] - 2s 206us/step - loss: 0.5606 - accuracy: 0.7138 - val_loss: 0.5613 - val_accuracy: 0.7156\n",
      "\n",
      "Epoch 00008: val_loss did not improve from 0.55086\n",
      "Epoch 00008: early stopping\n",
      "938/938 [==============================] - 0s 162us/step\n",
      "Val Score:  [0.5801999158442401, 0.700426459312439]\n",
      "====================================================================================\n",
      "\n",
      "\n"
     ]
    }
   ],
   "source": [
    "n_folds=3\n",
    "epochs=20\n",
    "batch_size=128\n",
    "\n",
    "#save the model history in a list after fitting so that we can plot later\n",
    "model_history_lstm = [] \n",
    "\n",
    "for i in range(n_folds):\n",
    "    print(\"Training on Fold: \",i+1)\n",
    "    t_x, val_x, t_y, val_y = train_test_split(X_train_lstm, y_train, test_size=0.1, \n",
    "                                               random_state = np.random.randint(1,1000, 1)[0])\n",
    "    model_history_lstm.append(fit_and_evaluate_lstm(t_x, val_x, t_y, val_y, epochs, batch_size))\n",
    "    print(\"=======\"*12, end=\"\\n\\n\\n\")"
   ]
  },
  {
   "cell_type": "code",
   "execution_count": 98,
   "id": "superb-ordering",
   "metadata": {},
   "outputs": [
    {
     "data": {
      "image/png": "[encoded data removed]",
      "text/plain": [
       "<Figure size 432x288 with 1 Axes>"
      ]
     },
     "metadata": {
      "needs_background": "light"
     },
     "output_type": "display_data"
    }
   ],
   "source": [
    "plt.title('Accuracies vs Epochs')\n",
    "plt.plot(model_history_lstm[0].history['accuracy'], label='Training Fold 1')\n",
    "plt.plot(model_history_lstm[1].history['accuracy'], label='Training Fold 2')\n",
    "plt.plot(model_history_lstm[2].history['accuracy'], label='Training Fold 3')\n",
    "plt.legend()\n",
    "plt.show()"
   ]
  },
  {
   "cell_type": "code",
   "execution_count": 99,
   "id": "welsh-thesaurus",
   "metadata": {},
   "outputs": [
    {
     "data": {
      "image/png": "[encoded data removed]",
      "text/plain": [
       "<Figure size 432x288 with 1 Axes>"
      ]
     },
     "metadata": {
      "needs_background": "light"
     },
     "output_type": "display_data"
    }
   ],
   "source": [
    "plt.title('Train Accuracy vs Val Accuracy')\n",
    "plt.plot(model_history_lstm[0].history['loss'], label='Train Loss Fold 1', color='black')\n",
    "plt.plot(model_history_lstm[0].history['val_loss'], label='Val Loss Fold 1', color='black', linestyle = \"dashdot\")\n",
    "plt.plot(model_history_lstm[1].history['loss'], label='Train Loss Fold 2', color='red', )\n",
    "plt.plot(model_history_lstm[1].history['val_loss'], label='Val Loss Fold 2', color='red', linestyle = \"dashdot\")\n",
    "plt.plot(model_history_lstm[2].history['loss'], label='Train Loss Fold 3', color='green', )\n",
    "plt.plot(model_history_lstm[2].history['val_loss'], label='Val Loss Fold 3', color='green', linestyle = \"dashdot\")\n",
    "plt.legend()\n",
    "plt.show()"
   ]
  },
  {
   "cell_type": "code",
   "execution_count": 100,
   "id": "meaningful-consideration",
   "metadata": {},
   "outputs": [],
   "source": [
    "lstm_model = load_model('../../models/lstm_model.h5')"
   ]
  },
  {
   "cell_type": "code",
   "execution_count": 101,
   "id": "negative-handbook",
   "metadata": {},
   "outputs": [],
   "source": [
    "predict_lstm = lstm_model.predict(X_test_lstm)"
   ]
  },
  {
   "cell_type": "code",
   "execution_count": 102,
   "id": "sized-patio",
   "metadata": {},
   "outputs": [],
   "source": [
    "y_pred_bin = lstm_model.predict_classes(X_test_lstm).flatten().tolist()"
   ]
  },
  {
   "cell_type": "code",
   "execution_count": 103,
   "id": "sporting-baking",
   "metadata": {},
   "outputs": [
    {
     "data": {
      "image/png": "[encoded data removed]",
      "text/plain": [
       "<Figure size 432x288 with 2 Axes>"
      ]
     },
     "metadata": {
      "needs_background": "light"
     },
     "output_type": "display_data"
    }
   ],
   "source": [
    "plt.imshow(confusion_matrix(y_test,y_pred_bin), cmap=plt.cm.Blues)\n",
    "plt.xlabel(\"Predicted labels\")\n",
    "plt.ylabel(\"True labels\")\n",
    "plt.xticks(np.arange(len([0,1])))\n",
    "plt.yticks(np.arange(len([0,1])))\n",
    "\n",
    "plt.title('Confusion matrix ')\n",
    "plt.colorbar()\n",
    "plt.show()"
   ]
  },
  {
   "cell_type": "code",
   "execution_count": 104,
   "id": "three-support",
   "metadata": {},
   "outputs": [
    {
     "name": "stdout",
     "output_type": "stream",
     "text": [
      "              precision    recall  f1-score   support\n",
      "\n",
      "           0       0.62      0.55      0.58       975\n",
      "           1       0.70      0.76      0.73      1368\n",
      "\n",
      "    accuracy                           0.67      2343\n",
      "   macro avg       0.66      0.65      0.66      2343\n",
      "weighted avg       0.67      0.67      0.67      2343\n",
      "\n"
     ]
    }
   ],
   "source": [
    "print(classification_report(y_test,y_pred_bin))"
   ]
  },
  {
   "cell_type": "code",
   "execution_count": 105,
   "id": "offshore-dubai",
   "metadata": {},
   "outputs": [],
   "source": [
    "fpr_lstm, tpr_lstm, thresh_lstm = roc_curve(y_test,predict_lstm)\n",
    "auc_lstm = roc_auc_score(y_test,predict_lstm)\n"
   ]
  },
  {
   "cell_type": "code",
   "execution_count": 106,
   "id": "hispanic-cathedral",
   "metadata": {},
   "outputs": [
    {
     "data": {
      "image/png": "[encoded data removed]",
      "text/plain": [
       "<Figure size 432x288 with 1 Axes>"
      ]
     },
     "metadata": {
      "needs_background": "light"
     },
     "output_type": "display_data"
    }
   ],
   "source": [
    "plt.figure()\n",
    "lw=2\n",
    "plt.plot(fpr_lstm,tpr_lstm, color='darkorange',lw=lw,label='ROC curve (area=%0.2f)' %auc_lstm)\n",
    "plt.plot([0,1],[0,1], color='grey', linestyle='--')\n",
    "plt.xlim([0.0, 1.0])\n",
    "plt.ylim([0.0,1.05])\n",
    "plt.xlabel('False positive rate')\n",
    "plt.ylabel('True positive rate')\n",
    "plt.title('ROC')\n",
    "plt.legend(loc='lower right')\n",
    "plt.show()"
   ]
  },
  {
   "cell_type": "markdown",
   "id": "dominican-envelope",
   "metadata": {},
   "source": [
    "### Trainign A LSTM with df_clean_knn"
   ]
  },
  {
   "cell_type": "code",
   "execution_count": 107,
   "id": "deluxe-vertex",
   "metadata": {},
   "outputs": [
    {
     "name": "stdout",
     "output_type": "stream",
     "text": [
      "(9371, 1, 139)\n"
     ]
    }
   ],
   "source": [
    "X_train_lstm_ = X_train_knn.to_numpy().reshape(X_train_knn.shape[0], 1, X_train_knn.shape[1])\n",
    "X_test_lstm_ = X_test_knn.to_numpy().reshape(X_test_knn.shape[0], 1, X_test_knn.shape[1])\n",
    "print(X_train_lstm_.shape)\n",
    "data_dim = X_train_lstm_.shape[2]\n",
    "model_checkpoint_lstm = ModelCheckpoint('../../models/lstm_model_.h5', verbose=1, save_best_only=True)\n",
    "model_lstm = Sequential()\n",
    "model_lstm.add(LSTM(200, input_shape=(None, data_dim),return_sequences=True))\n",
    "model_lstm.add(Dropout(0.2))\n",
    "model_lstm.add(Bidirectional(LSTM(100,return_sequences=True,activation='sigmoid')))\n",
    "model_lstm.add(Dropout(0.2))\n",
    "model_lstm.add(Bidirectional(LSTM(50,activation='sigmoid')))\n",
    "model_lstm.add(Dropout(0.5))\n",
    "model_lstm.add(Dense(1, activation='sigmoid'))\n",
    "model_lstm.compile(loss='binary_crossentropy', optimizer='adam', metrics = ['accuracy'])\n"
   ]
  },
  {
   "cell_type": "code",
   "execution_count": 108,
   "id": "lyric-fleet",
   "metadata": {},
   "outputs": [
    {
     "name": "stdout",
     "output_type": "stream",
     "text": [
      "Model: \"sequential_2\"\n",
      "_________________________________________________________________\n",
      "Layer (type)                 Output Shape              Param #   \n",
      "=================================================================\n",
      "lstm_4 (LSTM)                (None, None, 200)         272000    \n",
      "_________________________________________________________________\n",
      "dropout_4 (Dropout)          (None, None, 200)         0         \n",
      "_________________________________________________________________\n",
      "bidirectional_3 (Bidirection (None, None, 200)         240800    \n",
      "_________________________________________________________________\n",
      "dropout_5 (Dropout)          (None, None, 200)         0         \n",
      "_________________________________________________________________\n",
      "bidirectional_4 (Bidirection (None, 100)               100400    \n",
      "_________________________________________________________________\n",
      "dropout_6 (Dropout)          (None, 100)               0         \n",
      "_________________________________________________________________\n",
      "dense_2 (Dense)              (None, 1)                 101       \n",
      "=================================================================\n",
      "Total params: 613,301\n",
      "Trainable params: 613,301\n",
      "Non-trainable params: 0\n",
      "_________________________________________________________________\n"
     ]
    }
   ],
   "source": [
    "model_lstm.summary()"
   ]
  },
  {
   "cell_type": "code",
   "execution_count": 109,
   "id": "german-beads",
   "metadata": {},
   "outputs": [],
   "source": [
    "pat = 5 \n",
    "early_stopping = EarlyStopping(monitor='val_loss', patience=pat, verbose=1)"
   ]
  },
  {
   "cell_type": "code",
   "execution_count": 110,
   "id": "fifteen-charleston",
   "metadata": {},
   "outputs": [
    {
     "name": "stdout",
     "output_type": "stream",
     "text": [
      "Training on Fold:  1\n",
      "Train on 7589 samples, validate on 844 samples\n",
      "Epoch 1/20\n",
      "7589/7589 [==============================] - 3s 448us/step - loss: 0.6925 - accuracy: 0.5557 - val_loss: 0.6714 - val_accuracy: 0.5853\n",
      "\n",
      "Epoch 00001: val_loss improved from inf to 0.67142, saving model to ../../models/lstm_model_.h5\n",
      "Epoch 2/20\n",
      "7589/7589 [==============================] - 1s 194us/step - loss: 0.6712 - accuracy: 0.5887 - val_loss: 0.6639 - val_accuracy: 0.6078\n",
      "\n",
      "Epoch 00002: val_loss improved from 0.67142 to 0.66388, saving model to ../../models/lstm_model_.h5\n",
      "Epoch 3/20\n",
      "7589/7589 [==============================] - 1s 187us/step - loss: 0.6565 - accuracy: 0.6180 - val_loss: 0.6525 - val_accuracy: 0.6398\n",
      "\n",
      "Epoch 00003: val_loss improved from 0.66388 to 0.65246, saving model to ../../models/lstm_model_.h5\n",
      "Epoch 4/20\n",
      "7589/7589 [==============================] - 2s 202us/step - loss: 0.6452 - accuracy: 0.6432 - val_loss: 0.6505 - val_accuracy: 0.6363\n",
      "\n",
      "Epoch 00004: val_loss improved from 0.65246 to 0.65053, saving model to ../../models/lstm_model_.h5\n",
      "Epoch 5/20\n",
      "7589/7589 [==============================] - 2s 223us/step - loss: 0.6270 - accuracy: 0.6624 - val_loss: 0.6376 - val_accuracy: 0.6576\n",
      "\n",
      "Epoch 00005: val_loss improved from 0.65053 to 0.63757, saving model to ../../models/lstm_model_.h5\n",
      "Epoch 6/20\n",
      "7589/7589 [==============================] - 2s 212us/step - loss: 0.6214 - accuracy: 0.6641 - val_loss: 0.6390 - val_accuracy: 0.6493\n",
      "\n",
      "Epoch 00006: val_loss did not improve from 0.63757\n",
      "Epoch 7/20\n",
      "7589/7589 [==============================] - 2s 214us/step - loss: 0.6191 - accuracy: 0.6726 - val_loss: 0.6308 - val_accuracy: 0.6576\n",
      "\n",
      "Epoch 00007: val_loss improved from 0.63757 to 0.63081, saving model to ../../models/lstm_model_.h5\n",
      "Epoch 8/20\n",
      "7589/7589 [==============================] - 2s 214us/step - loss: 0.6169 - accuracy: 0.6762 - val_loss: 0.6257 - val_accuracy: 0.6694\n",
      "\n",
      "Epoch 00008: val_loss improved from 0.63081 to 0.62566, saving model to ../../models/lstm_model_.h5\n",
      "Epoch 9/20\n",
      "7589/7589 [==============================] - 2s 238us/step - loss: 0.6084 - accuracy: 0.6803 - val_loss: 0.6211 - val_accuracy: 0.6635\n",
      "\n",
      "Epoch 00009: val_loss improved from 0.62566 to 0.62114, saving model to ../../models/lstm_model_.h5\n",
      "Epoch 10/20\n",
      "7589/7589 [==============================] - 2s 222us/step - loss: 0.6074 - accuracy: 0.6766 - val_loss: 0.6177 - val_accuracy: 0.6754\n",
      "\n",
      "Epoch 00010: val_loss improved from 0.62114 to 0.61766, saving model to ../../models/lstm_model_.h5\n",
      "Epoch 11/20\n",
      "7589/7589 [==============================] - 2s 217us/step - loss: 0.6044 - accuracy: 0.6789 - val_loss: 0.6201 - val_accuracy: 0.6742\n",
      "\n",
      "Epoch 00011: val_loss did not improve from 0.61766\n",
      "Epoch 12/20\n",
      "7589/7589 [==============================] - 2s 225us/step - loss: 0.6026 - accuracy: 0.6816 - val_loss: 0.6167 - val_accuracy: 0.6564\n",
      "\n",
      "Epoch 00012: val_loss improved from 0.61766 to 0.61670, saving model to ../../models/lstm_model_.h5\n",
      "Epoch 13/20\n",
      "7589/7589 [==============================] - 2s 215us/step - loss: 0.6023 - accuracy: 0.6780 - val_loss: 0.6129 - val_accuracy: 0.6730\n",
      "\n",
      "Epoch 00013: val_loss improved from 0.61670 to 0.61285, saving model to ../../models/lstm_model_.h5\n",
      "Epoch 14/20\n",
      "7589/7589 [==============================] - 2s 208us/step - loss: 0.5960 - accuracy: 0.6839 - val_loss: 0.6117 - val_accuracy: 0.6789\n",
      "\n",
      "Epoch 00014: val_loss improved from 0.61285 to 0.61166, saving model to ../../models/lstm_model_.h5\n",
      "Epoch 15/20\n",
      "7589/7589 [==============================] - 2s 225us/step - loss: 0.5933 - accuracy: 0.6863 - val_loss: 0.6113 - val_accuracy: 0.6789\n",
      "\n",
      "Epoch 00015: val_loss improved from 0.61166 to 0.61135, saving model to ../../models/lstm_model_.h5\n",
      "Epoch 16/20\n",
      "7589/7589 [==============================] - 2s 216us/step - loss: 0.5921 - accuracy: 0.6890 - val_loss: 0.6104 - val_accuracy: 0.6682\n",
      "\n",
      "Epoch 00016: val_loss improved from 0.61135 to 0.61044, saving model to ../../models/lstm_model_.h5\n",
      "Epoch 17/20\n",
      "7589/7589 [==============================] - 2s 210us/step - loss: 0.5896 - accuracy: 0.6903 - val_loss: 0.6080 - val_accuracy: 0.6730\n",
      "\n",
      "Epoch 00017: val_loss improved from 0.61044 to 0.60796, saving model to ../../models/lstm_model_.h5\n",
      "Epoch 18/20\n",
      "7589/7589 [==============================] - 2s 203us/step - loss: 0.5871 - accuracy: 0.6934 - val_loss: 0.6103 - val_accuracy: 0.6801\n",
      "\n",
      "Epoch 00018: val_loss did not improve from 0.60796\n",
      "Epoch 19/20\n",
      "7589/7589 [==============================] - 2s 203us/step - loss: 0.5801 - accuracy: 0.6996 - val_loss: 0.6130 - val_accuracy: 0.6659\n",
      "\n",
      "Epoch 00019: val_loss did not improve from 0.60796\n",
      "Epoch 20/20\n",
      "7589/7589 [==============================] - 1s 185us/step - loss: 0.5840 - accuracy: 0.6915 - val_loss: 0.6132 - val_accuracy: 0.6754\n",
      "\n",
      "Epoch 00020: val_loss did not improve from 0.60796\n",
      "938/938 [==============================] - 0s 134us/step\n",
      "Val Score:  [0.6195333291218479, 0.668443500995636]\n",
      "====================================================================================\n",
      "\n",
      "\n",
      "Training on Fold:  2\n",
      "Train on 7589 samples, validate on 844 samples\n",
      "Epoch 1/20\n",
      "7589/7589 [==============================] - 1s 185us/step - loss: 0.5845 - accuracy: 0.6973 - val_loss: 0.6107 - val_accuracy: 0.6706\n",
      "\n",
      "Epoch 00001: val_loss did not improve from 0.60796\n",
      "Epoch 2/20\n",
      "7589/7589 [==============================] - 2s 206us/step - loss: 0.5854 - accuracy: 0.6894 - val_loss: 0.6042 - val_accuracy: 0.6765\n",
      "\n",
      "Epoch 00002: val_loss improved from 0.60796 to 0.60423, saving model to ../../models/lstm_model_.h5\n",
      "Epoch 3/20\n",
      "7589/7589 [==============================] - 2s 220us/step - loss: 0.5833 - accuracy: 0.6964 - val_loss: 0.6055 - val_accuracy: 0.6623\n",
      "\n",
      "Epoch 00003: val_loss did not improve from 0.60423\n",
      "Epoch 4/20\n",
      "7589/7589 [==============================] - 2s 260us/step - loss: 0.5787 - accuracy: 0.7002 - val_loss: 0.6036 - val_accuracy: 0.6765\n",
      "\n",
      "Epoch 00004: val_loss improved from 0.60423 to 0.60356, saving model to ../../models/lstm_model_.h5\n",
      "Epoch 5/20\n",
      "7589/7589 [==============================] - 2s 253us/step - loss: 0.5764 - accuracy: 0.6986 - val_loss: 0.6156 - val_accuracy: 0.6730\n",
      "\n",
      "Epoch 00005: val_loss did not improve from 0.60356\n",
      "Epoch 6/20\n",
      "7589/7589 [==============================] - 2s 215us/step - loss: 0.5793 - accuracy: 0.7014 - val_loss: 0.6084 - val_accuracy: 0.6801\n",
      "\n",
      "Epoch 00006: val_loss did not improve from 0.60356\n",
      "Epoch 7/20\n",
      "7589/7589 [==============================] - 2s 228us/step - loss: 0.5724 - accuracy: 0.7027 - val_loss: 0.6049 - val_accuracy: 0.6789\n",
      "\n",
      "Epoch 00007: val_loss did not improve from 0.60356\n",
      "Epoch 8/20\n",
      "7589/7589 [==============================] - 2s 199us/step - loss: 0.5685 - accuracy: 0.7101 - val_loss: 0.6096 - val_accuracy: 0.6730\n",
      "\n",
      "Epoch 00008: val_loss did not improve from 0.60356\n",
      "Epoch 9/20\n",
      "7589/7589 [==============================] - 2s 212us/step - loss: 0.5681 - accuracy: 0.7123 - val_loss: 0.6100 - val_accuracy: 0.6576\n",
      "\n",
      "Epoch 00009: val_loss did not improve from 0.60356\n",
      "Epoch 00009: early stopping\n",
      "938/938 [==============================] - 0s 141us/step\n",
      "Val Score:  [0.5616732939982465, 0.721748411655426]\n",
      "====================================================================================\n",
      "\n",
      "\n",
      "Training on Fold:  3\n",
      "Train on 7589 samples, validate on 844 samples\n",
      "Epoch 1/20\n",
      "7589/7589 [==============================] - 2s 225us/step - loss: 0.5738 - accuracy: 0.6967 - val_loss: 0.5628 - val_accuracy: 0.7038\n",
      "\n",
      "Epoch 00001: val_loss improved from 0.60356 to 0.56279, saving model to ../../models/lstm_model_.h5\n",
      "Epoch 2/20\n",
      "7589/7589 [==============================] - 1s 195us/step - loss: 0.5740 - accuracy: 0.7038 - val_loss: 0.5796 - val_accuracy: 0.7002\n",
      "\n",
      "Epoch 00002: val_loss did not improve from 0.56279\n",
      "Epoch 3/20\n",
      "7589/7589 [==============================] - 2s 199us/step - loss: 0.5700 - accuracy: 0.7021 - val_loss: 0.5675 - val_accuracy: 0.7050\n",
      "\n",
      "Epoch 00003: val_loss did not improve from 0.56279\n",
      "Epoch 4/20\n",
      "7589/7589 [==============================] - 2s 226us/step - loss: 0.5655 - accuracy: 0.7139 - val_loss: 0.5662 - val_accuracy: 0.6991\n",
      "\n",
      "Epoch 00004: val_loss did not improve from 0.56279\n",
      "Epoch 5/20\n",
      "7589/7589 [==============================] - 2s 234us/step - loss: 0.5622 - accuracy: 0.7130 - val_loss: 0.5997 - val_accuracy: 0.6848\n"
     ]
    },
    {
     "name": "stdout",
     "output_type": "stream",
     "text": [
      "\n",
      "Epoch 00005: val_loss did not improve from 0.56279\n",
      "Epoch 6/20\n",
      "7589/7589 [==============================] - 2s 260us/step - loss: 0.5627 - accuracy: 0.7054 - val_loss: 0.5729 - val_accuracy: 0.7073\n",
      "\n",
      "Epoch 00006: val_loss did not improve from 0.56279\n",
      "Epoch 00006: early stopping\n",
      "938/938 [==============================] - 0s 173us/step\n",
      "Val Score:  [0.5853278804689582, 0.6769722700119019]\n",
      "====================================================================================\n",
      "\n",
      "\n"
     ]
    }
   ],
   "source": [
    "n_folds=3\n",
    "epochs=20\n",
    "batch_size=128\n",
    "\n",
    "#save the model history in a list after fitting so that we can plot later\n",
    "model_history_lstm = [] \n",
    "\n",
    "for i in range(n_folds):\n",
    "    print(\"Training on Fold: \",i+1)\n",
    "    t_x, val_x, t_y, val_y = train_test_split(X_train_lstm_, y_train_knn, test_size=0.1, \n",
    "                                               random_state = np.random.randint(1,1000, 1)[0])\n",
    "    model_history_lstm.append(fit_and_evaluate_lstm(t_x, val_x, t_y, val_y, epochs, batch_size))\n",
    "    print(\"=======\"*12, end=\"\\n\\n\\n\")"
   ]
  },
  {
   "cell_type": "code",
   "execution_count": 111,
   "id": "rolled-lender",
   "metadata": {},
   "outputs": [
    {
     "data": {
      "image/png": "[encoded data removed]",
      "text/plain": [
       "<Figure size 432x288 with 1 Axes>"
      ]
     },
     "metadata": {
      "needs_background": "light"
     },
     "output_type": "display_data"
    }
   ],
   "source": [
    "plt.title('Accuracies vs Epochs')\n",
    "plt.plot(model_history_lstm[0].history['accuracy'], label='Training Fold 1')\n",
    "plt.plot(model_history_lstm[1].history['accuracy'], label='Training Fold 2')\n",
    "plt.plot(model_history_lstm[2].history['accuracy'], label='Training Fold 3')\n",
    "plt.legend()\n",
    "plt.show()"
   ]
  },
  {
   "cell_type": "code",
   "execution_count": 112,
   "id": "behind-complaint",
   "metadata": {},
   "outputs": [
    {
     "data": {
      "image/png": "[encoded data removed]",
      "text/plain": [
       "<Figure size 432x288 with 1 Axes>"
      ]
     },
     "metadata": {
      "needs_background": "light"
     },
     "output_type": "display_data"
    }
   ],
   "source": [
    "plt.title('Train Accuracy vs Val Accuracy')\n",
    "plt.plot(model_history_lstm[0].history['loss'], label='Train Loss Fold 1', color='black')\n",
    "plt.plot(model_history_lstm[0].history['val_loss'], label='Val Loss Fold 1', color='black', linestyle = \"dashdot\")\n",
    "plt.plot(model_history_lstm[1].history['loss'], label='Train Loss Fold 2', color='red', )\n",
    "plt.plot(model_history_lstm[1].history['val_loss'], label='Val Loss Fold 2', color='red', linestyle = \"dashdot\")\n",
    "plt.plot(model_history_lstm[2].history['loss'], label='Train Loss Fold 3', color='green', )\n",
    "plt.plot(model_history_lstm[2].history['val_loss'], label='Val Loss Fold 3', color='green', linestyle = \"dashdot\")\n",
    "plt.legend()\n",
    "plt.show()"
   ]
  },
  {
   "cell_type": "code",
   "execution_count": 113,
   "id": "starting-michael",
   "metadata": {},
   "outputs": [
    {
     "name": "stdout",
     "output_type": "stream",
     "text": [
      "[[656 319]\n",
      " [472 896]]\n",
      "\n",
      "              precision    recall  f1-score   support\n",
      "\n",
      "         0.0       0.58      0.67      0.62       975\n",
      "         1.0       0.74      0.65      0.69      1368\n",
      "\n",
      "    accuracy                           0.66      2343\n",
      "   macro avg       0.66      0.66      0.66      2343\n",
      "weighted avg       0.67      0.66      0.66      2343\n",
      "\n"
     ]
    }
   ],
   "source": [
    "lstm_model_ = load_model('../../models/lstm_model_.h5')\n",
    "predict_lstm_ = lstm_model_.predict(X_test_lstm_)\n",
    "y_pred_bin_ = lstm_model_.predict_classes(X_test_lstm_).flatten().tolist()\n",
    "print(metrics.confusion_matrix(y_test_knn,y_pred_bin_))\n",
    "print()\n",
    "print(classification_report(y_test_knn,y_pred_bin_))"
   ]
  },
  {
   "cell_type": "code",
   "execution_count": 114,
   "id": "cloudy-onion",
   "metadata": {},
   "outputs": [
    {
     "data": {
      "image/png": "[encoded data removed]",
      "text/plain": [
       "<Figure size 432x288 with 2 Axes>"
      ]
     },
     "metadata": {
      "needs_background": "light"
     },
     "output_type": "display_data"
    }
   ],
   "source": [
    "plt.imshow(confusion_matrix(y_test_knn,y_pred_bin_), cmap=plt.cm.Blues)\n",
    "plt.xlabel(\"Predicted labels\")\n",
    "plt.ylabel(\"True labels\")\n",
    "plt.xticks(np.arange(len([0,1])))\n",
    "plt.yticks(np.arange(len([0,1])))\n",
    "\n",
    "plt.title('Confusion matrix ')\n",
    "plt.colorbar()\n",
    "plt.show()"
   ]
  },
  {
   "cell_type": "code",
   "execution_count": 115,
   "id": "killing-liberal",
   "metadata": {},
   "outputs": [],
   "source": [
    "fpr_lstm_, tpr_lstm_, thresh_lstm_ = roc_curve(y_test,predict_lstm_)\n",
    "auc_lstm_ = roc_auc_score(y_test_knn,predict_lstm_)\n"
   ]
  },
  {
   "cell_type": "code",
   "execution_count": 116,
   "id": "automatic-consistency",
   "metadata": {},
   "outputs": [
    {
     "data": {
      "image/png": "[encoded data removed]",
      "text/plain": [
       "<Figure size 432x288 with 1 Axes>"
      ]
     },
     "metadata": {
      "needs_background": "light"
     },
     "output_type": "display_data"
    }
   ],
   "source": [
    "plt.figure()\n",
    "lw=2\n",
    "plt.plot(fpr_lstm_,tpr_lstm_, color='darkorange',lw=lw,label='ROC curve (area=%0.2f)' %auc_lstm_)\n",
    "plt.plot([0,1],[0,1], color='grey', linestyle='--')\n",
    "plt.xlim([0.0, 1.0])\n",
    "plt.ylim([0.0,1.05])\n",
    "plt.xlabel('False positive rate')\n",
    "plt.ylabel('True positive rate')\n",
    "plt.title('ROC')\n",
    "plt.legend(loc='lower right')\n",
    "plt.show()"
   ]
  },
  {
   "cell_type": "markdown",
   "id": "considerable-printer",
   "metadata": {},
   "source": [
    "# Choosing the best model and data"
   ]
  },
  {
   "cell_type": "markdown",
   "id": "accessible-norman",
   "metadata": {},
   "source": [
    "## With the results obtained, the best model is gbc for the data set in which the missing values were replace for  not indicated in the categorical variables\n",
    "\n",
    "The model was called clf_not\n"
   ]
  },
  {
   "cell_type": "code",
   "execution_count": 117,
   "id": "proved-departure",
   "metadata": {},
   "outputs": [],
   "source": [
    "import pickle"
   ]
  },
  {
   "cell_type": "code",
   "execution_count": 118,
   "id": "frank-invitation",
   "metadata": {},
   "outputs": [],
   "source": [
    "try:\n",
    "    clf_final = pickle.load(open('../../models/model_gbc.pickle','rb'))\n",
    "except:\n",
    "    pickle.dump(clf_not, open('../../models/model_gbc.pickle', 'wb'))"
   ]
  },
  {
   "cell_type": "markdown",
   "id": "assigned-penetration",
   "metadata": {},
   "source": [
    "# Making Prediction "
   ]
  },
  {
   "cell_type": "markdown",
   "id": "gorgeous-hazard",
   "metadata": {},
   "source": [
    "## 1- Prepare Test data"
   ]
  },
  {
   "cell_type": "code",
   "execution_count": 119,
   "id": "extra-commonwealth",
   "metadata": {},
   "outputs": [
    {
     "data": {
      "text/html": [
       "<div>\n",
       "<style scoped>\n",
       "    .dataframe tbody tr th:only-of-type {\n",
       "        vertical-align: middle;\n",
       "    }\n",
       "\n",
       "    .dataframe tbody tr th {\n",
       "        vertical-align: top;\n",
       "    }\n",
       "\n",
       "    .dataframe thead th {\n",
       "        text-align: right;\n",
       "    }\n",
       "</style>\n",
       "<table border=\"1\" class=\"dataframe\">\n",
       "  <thead>\n",
       "    <tr style=\"text-align: right;\">\n",
       "      <th></th>\n",
       "      <th>account_uuid</th>\n",
       "      <th>product</th>\n",
       "      <th>premium</th>\n",
       "      <th>carrier_id</th>\n",
       "      <th>state</th>\n",
       "      <th>industry</th>\n",
       "      <th>subindustry</th>\n",
       "      <th>year_established</th>\n",
       "      <th>annual_revenue</th>\n",
       "      <th>total_payroll</th>\n",
       "      <th>business_structure</th>\n",
       "      <th>num_employees</th>\n",
       "    </tr>\n",
       "  </thead>\n",
       "  <tbody>\n",
       "    <tr>\n",
       "      <th>0</th>\n",
       "      <td>cadb76f5-2f0ad-a78b-6c138-001288b999</td>\n",
       "      <td>Business_Owners_Policy_BOP</td>\n",
       "      <td>518.0</td>\n",
       "      <td>60</td>\n",
       "      <td>TX</td>\n",
       "      <td>Contractors</td>\n",
       "      <td>Electrical Contractors and Other Wiring Instal...</td>\n",
       "      <td>2018.0</td>\n",
       "      <td>100000.0</td>\n",
       "      <td>25000.0</td>\n",
       "      <td>Limited Liability Company</td>\n",
       "      <td>3.0</td>\n",
       "    </tr>\n",
       "    <tr>\n",
       "      <th>1</th>\n",
       "      <td>cadb76f5-2f0ad-a78b-6c138-001288b999</td>\n",
       "      <td>Business_Owners_Policy_BOP</td>\n",
       "      <td>542.0</td>\n",
       "      <td>60</td>\n",
       "      <td>TX</td>\n",
       "      <td>Contractors</td>\n",
       "      <td>Electrical Contractors and Other Wiring Instal...</td>\n",
       "      <td>2018.0</td>\n",
       "      <td>100000.0</td>\n",
       "      <td>25000.0</td>\n",
       "      <td>Limited Liability Company</td>\n",
       "      <td>3.0</td>\n",
       "    </tr>\n",
       "    <tr>\n",
       "      <th>2</th>\n",
       "      <td>d8aed557-aa49-4e6c-8f1d-860fa56e633f</td>\n",
       "      <td>General_Liability</td>\n",
       "      <td>500.0</td>\n",
       "      <td>39</td>\n",
       "      <td>FL</td>\n",
       "      <td>Administrative Services and Building Maintenance</td>\n",
       "      <td>Other Services to Buildings and Dwellings</td>\n",
       "      <td>2018.0</td>\n",
       "      <td>25000.0</td>\n",
       "      <td>0.0</td>\n",
       "      <td>Individual</td>\n",
       "      <td>0.0</td>\n",
       "    </tr>\n",
       "    <tr>\n",
       "      <th>3</th>\n",
       "      <td>08ec2c90-b3037-3f8e-429af-f834f19937</td>\n",
       "      <td>Business_Owners_Policy_BOP</td>\n",
       "      <td>500.0</td>\n",
       "      <td>31</td>\n",
       "      <td>NY</td>\n",
       "      <td>Administrative Services and Building Maintenance</td>\n",
       "      <td>Janitorial Services</td>\n",
       "      <td>2017.0</td>\n",
       "      <td>10000.0</td>\n",
       "      <td>0.0</td>\n",
       "      <td>Individual</td>\n",
       "      <td>0.0</td>\n",
       "    </tr>\n",
       "    <tr>\n",
       "      <th>4</th>\n",
       "      <td>14a4b644-740b-454e-8872-3460fda39092</td>\n",
       "      <td>CW_Professional_Liability</td>\n",
       "      <td>400.0</td>\n",
       "      <td>31</td>\n",
       "      <td>CA</td>\n",
       "      <td>NaN</td>\n",
       "      <td>NaN</td>\n",
       "      <td>2018.0</td>\n",
       "      <td>12000.0</td>\n",
       "      <td>4000.0</td>\n",
       "      <td>Individual</td>\n",
       "      <td>1.0</td>\n",
       "    </tr>\n",
       "  </tbody>\n",
       "</table>\n",
       "</div>"
      ],
      "text/plain": [
       "                           account_uuid                     product  premium  \\\n",
       "0  cadb76f5-2f0ad-a78b-6c138-001288b999  Business_Owners_Policy_BOP    518.0   \n",
       "1  cadb76f5-2f0ad-a78b-6c138-001288b999  Business_Owners_Policy_BOP    542.0   \n",
       "2  d8aed557-aa49-4e6c-8f1d-860fa56e633f           General_Liability    500.0   \n",
       "3  08ec2c90-b3037-3f8e-429af-f834f19937  Business_Owners_Policy_BOP    500.0   \n",
       "4  14a4b644-740b-454e-8872-3460fda39092   CW_Professional_Liability    400.0   \n",
       "\n",
       "   carrier_id state                                          industry  \\\n",
       "0          60    TX                                       Contractors   \n",
       "1          60    TX                                       Contractors   \n",
       "2          39    FL  Administrative Services and Building Maintenance   \n",
       "3          31    NY  Administrative Services and Building Maintenance   \n",
       "4          31    CA                                               NaN   \n",
       "\n",
       "                                         subindustry  year_established  \\\n",
       "0  Electrical Contractors and Other Wiring Instal...            2018.0   \n",
       "1  Electrical Contractors and Other Wiring Instal...            2018.0   \n",
       "2          Other Services to Buildings and Dwellings            2018.0   \n",
       "3                                Janitorial Services            2017.0   \n",
       "4                                                NaN            2018.0   \n",
       "\n",
       "   annual_revenue  total_payroll         business_structure  num_employees  \n",
       "0        100000.0        25000.0  Limited Liability Company            3.0  \n",
       "1        100000.0        25000.0  Limited Liability Company            3.0  \n",
       "2         25000.0            0.0                 Individual            0.0  \n",
       "3         10000.0            0.0                 Individual            0.0  \n",
       "4         12000.0         4000.0                 Individual            1.0  "
      ]
     },
     "execution_count": 119,
     "metadata": {},
     "output_type": "execute_result"
    }
   ],
   "source": [
    "df_test.head()"
   ]
  },
  {
   "cell_type": "code",
   "execution_count": 120,
   "id": "sufficient-remainder",
   "metadata": {},
   "outputs": [
    {
     "data": {
      "text/html": [
       "<div>\n",
       "<style scoped>\n",
       "    .dataframe tbody tr th:only-of-type {\n",
       "        vertical-align: middle;\n",
       "    }\n",
       "\n",
       "    .dataframe tbody tr th {\n",
       "        vertical-align: top;\n",
       "    }\n",
       "\n",
       "    .dataframe thead th {\n",
       "        text-align: right;\n",
       "    }\n",
       "</style>\n",
       "<table border=\"1\" class=\"dataframe\">\n",
       "  <thead>\n",
       "    <tr style=\"text-align: right;\">\n",
       "      <th></th>\n",
       "      <th>account_uuid</th>\n",
       "      <th>product</th>\n",
       "      <th>premium</th>\n",
       "      <th>carrier_id</th>\n",
       "      <th>state</th>\n",
       "      <th>industry</th>\n",
       "      <th>subindustry</th>\n",
       "      <th>year_established</th>\n",
       "      <th>annual_revenue</th>\n",
       "      <th>total_payroll</th>\n",
       "      <th>business_structure</th>\n",
       "      <th>num_employees</th>\n",
       "    </tr>\n",
       "  </thead>\n",
       "  <tbody>\n",
       "    <tr>\n",
       "      <th>5000</th>\n",
       "      <td>0ff8953c-71dd-4d0e-83d3-d709edfa6456</td>\n",
       "      <td>CW_Umbrella_Policy</td>\n",
       "      <td>1060.00</td>\n",
       "      <td>73</td>\n",
       "      <td>CA</td>\n",
       "      <td>Sports, Arts, Entertainment, and Recreation</td>\n",
       "      <td>All Other Amusement and Recreation Industries</td>\n",
       "      <td>2017.0</td>\n",
       "      <td>5000.0</td>\n",
       "      <td>0.0</td>\n",
       "      <td>Individual</td>\n",
       "      <td>0.0</td>\n",
       "    </tr>\n",
       "    <tr>\n",
       "      <th>5001</th>\n",
       "      <td>88ffff2d-7520-41ab-97cb-7e77a986781b</td>\n",
       "      <td>CW_Umbrella_Policy</td>\n",
       "      <td>773.00</td>\n",
       "      <td>39</td>\n",
       "      <td>CA</td>\n",
       "      <td>Manufacturing</td>\n",
       "      <td>Jewelry and Silverware Manufacturing</td>\n",
       "      <td>1983.0</td>\n",
       "      <td>160000.0</td>\n",
       "      <td>0.0</td>\n",
       "      <td>Individual</td>\n",
       "      <td>0.0</td>\n",
       "    </tr>\n",
       "    <tr>\n",
       "      <th>5002</th>\n",
       "      <td>2b086194-0036-4fcc-b156-6d0da3b733a9</td>\n",
       "      <td>General_Liability</td>\n",
       "      <td>1019.00</td>\n",
       "      <td>9</td>\n",
       "      <td>AL</td>\n",
       "      <td>Other Services</td>\n",
       "      <td>Appliance Repair and Maintenance</td>\n",
       "      <td>2014.0</td>\n",
       "      <td>24000.0</td>\n",
       "      <td>15000.0</td>\n",
       "      <td>Individual</td>\n",
       "      <td>1.0</td>\n",
       "    </tr>\n",
       "    <tr>\n",
       "      <th>5003</th>\n",
       "      <td>b889ddea-1ceb-4684-b21b-231ae6c65658</td>\n",
       "      <td>General_Liability</td>\n",
       "      <td>701.00</td>\n",
       "      <td>9</td>\n",
       "      <td>NJ</td>\n",
       "      <td>Contractors</td>\n",
       "      <td>Site Preparation Contractors</td>\n",
       "      <td>2014.0</td>\n",
       "      <td>100000.0</td>\n",
       "      <td>0.0</td>\n",
       "      <td>Limited Liability Company</td>\n",
       "      <td>0.0</td>\n",
       "    </tr>\n",
       "    <tr>\n",
       "      <th>5004</th>\n",
       "      <td>43b828ce-ef91-4f4e-b137-bf148f822c52</td>\n",
       "      <td>General_Liability</td>\n",
       "      <td>712.25</td>\n",
       "      <td>39</td>\n",
       "      <td>MI</td>\n",
       "      <td>Administrative Services and Building Maintenance</td>\n",
       "      <td>Janitorial Services</td>\n",
       "      <td>2017.0</td>\n",
       "      <td>20000.0</td>\n",
       "      <td>10000.0</td>\n",
       "      <td>Limited Liability Company</td>\n",
       "      <td>3.0</td>\n",
       "    </tr>\n",
       "  </tbody>\n",
       "</table>\n",
       "</div>"
      ],
      "text/plain": [
       "                              account_uuid             product  premium  \\\n",
       "5000  0ff8953c-71dd-4d0e-83d3-d709edfa6456  CW_Umbrella_Policy  1060.00   \n",
       "5001  88ffff2d-7520-41ab-97cb-7e77a986781b  CW_Umbrella_Policy   773.00   \n",
       "5002  2b086194-0036-4fcc-b156-6d0da3b733a9   General_Liability  1019.00   \n",
       "5003  b889ddea-1ceb-4684-b21b-231ae6c65658   General_Liability   701.00   \n",
       "5004  43b828ce-ef91-4f4e-b137-bf148f822c52   General_Liability   712.25   \n",
       "\n",
       "      carrier_id state                                          industry  \\\n",
       "5000          73    CA       Sports, Arts, Entertainment, and Recreation   \n",
       "5001          39    CA                                     Manufacturing   \n",
       "5002           9    AL                                    Other Services   \n",
       "5003           9    NJ                                       Contractors   \n",
       "5004          39    MI  Administrative Services and Building Maintenance   \n",
       "\n",
       "                                        subindustry  year_established  \\\n",
       "5000  All Other Amusement and Recreation Industries            2017.0   \n",
       "5001           Jewelry and Silverware Manufacturing            1983.0   \n",
       "5002               Appliance Repair and Maintenance            2014.0   \n",
       "5003                   Site Preparation Contractors            2014.0   \n",
       "5004                            Janitorial Services            2017.0   \n",
       "\n",
       "      annual_revenue  total_payroll         business_structure  num_employees  \n",
       "5000          5000.0            0.0                 Individual            0.0  \n",
       "5001        160000.0            0.0                 Individual            0.0  \n",
       "5002         24000.0        15000.0                 Individual            1.0  \n",
       "5003        100000.0            0.0  Limited Liability Company            0.0  \n",
       "5004         20000.0        10000.0  Limited Liability Company            3.0  "
      ]
     },
     "execution_count": 120,
     "metadata": {},
     "output_type": "execute_result"
    }
   ],
   "source": [
    "df_test.tail()"
   ]
  },
  {
   "cell_type": "code",
   "execution_count": 121,
   "id": "fixed-protest",
   "metadata": {},
   "outputs": [],
   "source": [
    "preprocess_test = Preprocces(df_test)\n"
   ]
  },
  {
   "cell_type": "code",
   "execution_count": 122,
   "id": "preliminary-pollution",
   "metadata": {},
   "outputs": [
    {
     "name": "stderr",
     "output_type": "stream",
     "text": [
      "[2021-01-20][17:28:14][scripts.preprocess_data][INFO] Shape of dataframe:(5005, 12)\n",
      "[2021-01-20][17:28:14][scripts.preprocess_data][INFO] Remove outlier from column year_established\n",
      "[2021-01-20][17:28:14][scripts.preprocess_data][INFO] Shape of dataframe:(5005, 12)\n",
      "[2021-01-20][17:28:14][scripts.preprocess_data][INFO] Transform column year_established to company years example: 2017 --> 4\n",
      "[2021-01-20][17:28:14][scripts.preprocess_data][INFO] Apply logarithm to annual_revenue total_payroll premium\n"
     ]
    }
   ],
   "source": [
    "df_clean_test = preprocess_test.clean_dataframe()\n",
    "\n"
   ]
  },
  {
   "cell_type": "code",
   "execution_count": 123,
   "id": "sharing-dairy",
   "metadata": {},
   "outputs": [],
   "source": [
    "df_clean_test = preprocess_test.fill_numerical_na(['year_established','annual_revenue','total_payroll','num_employees'],df_clean_test)\n",
    "df_clean_test = preprocess_test.fill_categorical_na(['state','industry','subindustry','business_structure'],df_clean_test)\n",
    "df_Test = preprocess_test.encode_and_bind(df_clean_test.drop(['account_uuid','subindustry'],axis=1), features_to_encode)\n",
    "df_Test[df_Test<0]=0"
   ]
  },
  {
   "cell_type": "code",
   "execution_count": 124,
   "id": "compressed-virgin",
   "metadata": {},
   "outputs": [
    {
     "data": {
      "text/html": [
       "<div>\n",
       "<style scoped>\n",
       "    .dataframe tbody tr th:only-of-type {\n",
       "        vertical-align: middle;\n",
       "    }\n",
       "\n",
       "    .dataframe tbody tr th {\n",
       "        vertical-align: top;\n",
       "    }\n",
       "\n",
       "    .dataframe thead th {\n",
       "        text-align: right;\n",
       "    }\n",
       "</style>\n",
       "<table border=\"1\" class=\"dataframe\">\n",
       "  <thead>\n",
       "    <tr style=\"text-align: right;\">\n",
       "      <th></th>\n",
       "      <th>account_uuid</th>\n",
       "      <th>product</th>\n",
       "      <th>premium</th>\n",
       "      <th>carrier_id</th>\n",
       "      <th>state</th>\n",
       "      <th>industry</th>\n",
       "      <th>subindustry</th>\n",
       "      <th>year_established</th>\n",
       "      <th>annual_revenue</th>\n",
       "      <th>total_payroll</th>\n",
       "      <th>business_structure</th>\n",
       "      <th>num_employees</th>\n",
       "    </tr>\n",
       "  </thead>\n",
       "  <tbody>\n",
       "    <tr>\n",
       "      <th>0</th>\n",
       "      <td>cadb76f5-2f0ad-a78b-6c138-001288b999</td>\n",
       "      <td>Business_Owners_Policy_BOP</td>\n",
       "      <td>6.249975</td>\n",
       "      <td>60</td>\n",
       "      <td>TX</td>\n",
       "      <td>Contractors</td>\n",
       "      <td>Electrical Contractors and Other Wiring Instal...</td>\n",
       "      <td>3.0</td>\n",
       "      <td>11.512925</td>\n",
       "      <td>10.126631</td>\n",
       "      <td>Limited Liability Company</td>\n",
       "      <td>3.0</td>\n",
       "    </tr>\n",
       "    <tr>\n",
       "      <th>1</th>\n",
       "      <td>cadb76f5-2f0ad-a78b-6c138-001288b999</td>\n",
       "      <td>Business_Owners_Policy_BOP</td>\n",
       "      <td>6.295266</td>\n",
       "      <td>60</td>\n",
       "      <td>TX</td>\n",
       "      <td>Contractors</td>\n",
       "      <td>Electrical Contractors and Other Wiring Instal...</td>\n",
       "      <td>3.0</td>\n",
       "      <td>11.512925</td>\n",
       "      <td>10.126631</td>\n",
       "      <td>Limited Liability Company</td>\n",
       "      <td>3.0</td>\n",
       "    </tr>\n",
       "    <tr>\n",
       "      <th>2</th>\n",
       "      <td>d8aed557-aa49-4e6c-8f1d-860fa56e633f</td>\n",
       "      <td>General_Liability</td>\n",
       "      <td>6.214608</td>\n",
       "      <td>39</td>\n",
       "      <td>FL</td>\n",
       "      <td>Administrative Services and Building Maintenance</td>\n",
       "      <td>Other Services to Buildings and Dwellings</td>\n",
       "      <td>3.0</td>\n",
       "      <td>10.126631</td>\n",
       "      <td>0.000000</td>\n",
       "      <td>Individual</td>\n",
       "      <td>0.0</td>\n",
       "    </tr>\n",
       "    <tr>\n",
       "      <th>3</th>\n",
       "      <td>08ec2c90-b3037-3f8e-429af-f834f19937</td>\n",
       "      <td>Business_Owners_Policy_BOP</td>\n",
       "      <td>6.214608</td>\n",
       "      <td>31</td>\n",
       "      <td>NY</td>\n",
       "      <td>Administrative Services and Building Maintenance</td>\n",
       "      <td>Janitorial Services</td>\n",
       "      <td>4.0</td>\n",
       "      <td>9.210340</td>\n",
       "      <td>0.000000</td>\n",
       "      <td>Individual</td>\n",
       "      <td>0.0</td>\n",
       "    </tr>\n",
       "    <tr>\n",
       "      <th>4</th>\n",
       "      <td>14a4b644-740b-454e-8872-3460fda39092</td>\n",
       "      <td>CW_Professional_Liability</td>\n",
       "      <td>5.991465</td>\n",
       "      <td>31</td>\n",
       "      <td>CA</td>\n",
       "      <td>not indicated</td>\n",
       "      <td>not indicated</td>\n",
       "      <td>3.0</td>\n",
       "      <td>9.392662</td>\n",
       "      <td>8.294050</td>\n",
       "      <td>Individual</td>\n",
       "      <td>1.0</td>\n",
       "    </tr>\n",
       "  </tbody>\n",
       "</table>\n",
       "</div>"
      ],
      "text/plain": [
       "                           account_uuid                     product   premium  \\\n",
       "0  cadb76f5-2f0ad-a78b-6c138-001288b999  Business_Owners_Policy_BOP  6.249975   \n",
       "1  cadb76f5-2f0ad-a78b-6c138-001288b999  Business_Owners_Policy_BOP  6.295266   \n",
       "2  d8aed557-aa49-4e6c-8f1d-860fa56e633f           General_Liability  6.214608   \n",
       "3  08ec2c90-b3037-3f8e-429af-f834f19937  Business_Owners_Policy_BOP  6.214608   \n",
       "4  14a4b644-740b-454e-8872-3460fda39092   CW_Professional_Liability  5.991465   \n",
       "\n",
       "   carrier_id state                                          industry  \\\n",
       "0          60    TX                                       Contractors   \n",
       "1          60    TX                                       Contractors   \n",
       "2          39    FL  Administrative Services and Building Maintenance   \n",
       "3          31    NY  Administrative Services and Building Maintenance   \n",
       "4          31    CA                                     not indicated   \n",
       "\n",
       "                                         subindustry  year_established  \\\n",
       "0  Electrical Contractors and Other Wiring Instal...               3.0   \n",
       "1  Electrical Contractors and Other Wiring Instal...               3.0   \n",
       "2          Other Services to Buildings and Dwellings               3.0   \n",
       "3                                Janitorial Services               4.0   \n",
       "4                                      not indicated               3.0   \n",
       "\n",
       "   annual_revenue  total_payroll         business_structure  num_employees  \n",
       "0       11.512925      10.126631  Limited Liability Company            3.0  \n",
       "1       11.512925      10.126631  Limited Liability Company            3.0  \n",
       "2       10.126631       0.000000                 Individual            0.0  \n",
       "3        9.210340       0.000000                 Individual            0.0  \n",
       "4        9.392662       8.294050                 Individual            1.0  "
      ]
     },
     "execution_count": 124,
     "metadata": {},
     "output_type": "execute_result"
    }
   ],
   "source": [
    "df_clean_test.head()"
   ]
  },
  {
   "cell_type": "code",
   "execution_count": 125,
   "id": "personal-advice",
   "metadata": {},
   "outputs": [
    {
     "data": {
      "text/plain": [
       "account_uuid          0\n",
       "product               0\n",
       "premium               0\n",
       "carrier_id            0\n",
       "state                 0\n",
       "industry              0\n",
       "subindustry           0\n",
       "year_established      0\n",
       "annual_revenue        0\n",
       "total_payroll         0\n",
       "business_structure    0\n",
       "num_employees         0\n",
       "dtype: int64"
      ]
     },
     "execution_count": 125,
     "metadata": {},
     "output_type": "execute_result"
    }
   ],
   "source": [
    "df_clean_test.isnull().sum()"
   ]
  },
  {
   "cell_type": "code",
   "execution_count": 126,
   "id": "corresponding-circle",
   "metadata": {},
   "outputs": [
    {
     "data": {
      "text/html": [
       "<div>\n",
       "<style scoped>\n",
       "    .dataframe tbody tr th:only-of-type {\n",
       "        vertical-align: middle;\n",
       "    }\n",
       "\n",
       "    .dataframe tbody tr th {\n",
       "        vertical-align: top;\n",
       "    }\n",
       "\n",
       "    .dataframe thead th {\n",
       "        text-align: right;\n",
       "    }\n",
       "</style>\n",
       "<table border=\"1\" class=\"dataframe\">\n",
       "  <thead>\n",
       "    <tr style=\"text-align: right;\">\n",
       "      <th></th>\n",
       "      <th>product_Business_Owners_Policy_BOP</th>\n",
       "      <th>product_CW_Crime_Liability</th>\n",
       "      <th>product_CW_Directors_Officers_D_O</th>\n",
       "      <th>product_CW_Disability_Insurance</th>\n",
       "      <th>product_CW_Employee_Benefits_Liability</th>\n",
       "      <th>product_CW_Employment_Practices_Liability_Insurance_EPLI</th>\n",
       "      <th>product_CW_Errors_Omissions_E_O</th>\n",
       "      <th>product_CW_Fidelity_Bond</th>\n",
       "      <th>product_CW_Fiduciary_Bond</th>\n",
       "      <th>product_CW_GL_and_E_O</th>\n",
       "      <th>...</th>\n",
       "      <th>business_structure_Non-Profit</th>\n",
       "      <th>business_structure_Not sure yet</th>\n",
       "      <th>business_structure_Other</th>\n",
       "      <th>business_structure_Partnership</th>\n",
       "      <th>premium</th>\n",
       "      <th>carrier_id</th>\n",
       "      <th>year_established</th>\n",
       "      <th>annual_revenue</th>\n",
       "      <th>total_payroll</th>\n",
       "      <th>num_employees</th>\n",
       "    </tr>\n",
       "  </thead>\n",
       "  <tbody>\n",
       "    <tr>\n",
       "      <th>0</th>\n",
       "      <td>1</td>\n",
       "      <td>0</td>\n",
       "      <td>0</td>\n",
       "      <td>0</td>\n",
       "      <td>0</td>\n",
       "      <td>0</td>\n",
       "      <td>0</td>\n",
       "      <td>0</td>\n",
       "      <td>0</td>\n",
       "      <td>0</td>\n",
       "      <td>...</td>\n",
       "      <td>0</td>\n",
       "      <td>0</td>\n",
       "      <td>0</td>\n",
       "      <td>0</td>\n",
       "      <td>6.249975</td>\n",
       "      <td>60</td>\n",
       "      <td>3.0</td>\n",
       "      <td>11.512925</td>\n",
       "      <td>10.126631</td>\n",
       "      <td>3.0</td>\n",
       "    </tr>\n",
       "    <tr>\n",
       "      <th>1</th>\n",
       "      <td>1</td>\n",
       "      <td>0</td>\n",
       "      <td>0</td>\n",
       "      <td>0</td>\n",
       "      <td>0</td>\n",
       "      <td>0</td>\n",
       "      <td>0</td>\n",
       "      <td>0</td>\n",
       "      <td>0</td>\n",
       "      <td>0</td>\n",
       "      <td>...</td>\n",
       "      <td>0</td>\n",
       "      <td>0</td>\n",
       "      <td>0</td>\n",
       "      <td>0</td>\n",
       "      <td>6.295266</td>\n",
       "      <td>60</td>\n",
       "      <td>3.0</td>\n",
       "      <td>11.512925</td>\n",
       "      <td>10.126631</td>\n",
       "      <td>3.0</td>\n",
       "    </tr>\n",
       "    <tr>\n",
       "      <th>2</th>\n",
       "      <td>0</td>\n",
       "      <td>0</td>\n",
       "      <td>0</td>\n",
       "      <td>0</td>\n",
       "      <td>0</td>\n",
       "      <td>0</td>\n",
       "      <td>0</td>\n",
       "      <td>0</td>\n",
       "      <td>0</td>\n",
       "      <td>0</td>\n",
       "      <td>...</td>\n",
       "      <td>0</td>\n",
       "      <td>0</td>\n",
       "      <td>0</td>\n",
       "      <td>0</td>\n",
       "      <td>6.214608</td>\n",
       "      <td>39</td>\n",
       "      <td>3.0</td>\n",
       "      <td>10.126631</td>\n",
       "      <td>0.000000</td>\n",
       "      <td>0.0</td>\n",
       "    </tr>\n",
       "    <tr>\n",
       "      <th>3</th>\n",
       "      <td>1</td>\n",
       "      <td>0</td>\n",
       "      <td>0</td>\n",
       "      <td>0</td>\n",
       "      <td>0</td>\n",
       "      <td>0</td>\n",
       "      <td>0</td>\n",
       "      <td>0</td>\n",
       "      <td>0</td>\n",
       "      <td>0</td>\n",
       "      <td>...</td>\n",
       "      <td>0</td>\n",
       "      <td>0</td>\n",
       "      <td>0</td>\n",
       "      <td>0</td>\n",
       "      <td>6.214608</td>\n",
       "      <td>31</td>\n",
       "      <td>4.0</td>\n",
       "      <td>9.210340</td>\n",
       "      <td>0.000000</td>\n",
       "      <td>0.0</td>\n",
       "    </tr>\n",
       "    <tr>\n",
       "      <th>4</th>\n",
       "      <td>0</td>\n",
       "      <td>0</td>\n",
       "      <td>0</td>\n",
       "      <td>0</td>\n",
       "      <td>0</td>\n",
       "      <td>0</td>\n",
       "      <td>0</td>\n",
       "      <td>0</td>\n",
       "      <td>0</td>\n",
       "      <td>0</td>\n",
       "      <td>...</td>\n",
       "      <td>0</td>\n",
       "      <td>0</td>\n",
       "      <td>0</td>\n",
       "      <td>0</td>\n",
       "      <td>5.991465</td>\n",
       "      <td>31</td>\n",
       "      <td>3.0</td>\n",
       "      <td>9.392662</td>\n",
       "      <td>8.294050</td>\n",
       "      <td>1.0</td>\n",
       "    </tr>\n",
       "  </tbody>\n",
       "</table>\n",
       "<p>5 rows × 119 columns</p>\n",
       "</div>"
      ],
      "text/plain": [
       "   product_Business_Owners_Policy_BOP  product_CW_Crime_Liability  \\\n",
       "0                                   1                           0   \n",
       "1                                   1                           0   \n",
       "2                                   0                           0   \n",
       "3                                   1                           0   \n",
       "4                                   0                           0   \n",
       "\n",
       "   product_CW_Directors_Officers_D_O  product_CW_Disability_Insurance  \\\n",
       "0                                  0                                0   \n",
       "1                                  0                                0   \n",
       "2                                  0                                0   \n",
       "3                                  0                                0   \n",
       "4                                  0                                0   \n",
       "\n",
       "   product_CW_Employee_Benefits_Liability  \\\n",
       "0                                       0   \n",
       "1                                       0   \n",
       "2                                       0   \n",
       "3                                       0   \n",
       "4                                       0   \n",
       "\n",
       "   product_CW_Employment_Practices_Liability_Insurance_EPLI  \\\n",
       "0                                                  0          \n",
       "1                                                  0          \n",
       "2                                                  0          \n",
       "3                                                  0          \n",
       "4                                                  0          \n",
       "\n",
       "   product_CW_Errors_Omissions_E_O  product_CW_Fidelity_Bond  \\\n",
       "0                                0                         0   \n",
       "1                                0                         0   \n",
       "2                                0                         0   \n",
       "3                                0                         0   \n",
       "4                                0                         0   \n",
       "\n",
       "   product_CW_Fiduciary_Bond  product_CW_GL_and_E_O  ...  \\\n",
       "0                          0                      0  ...   \n",
       "1                          0                      0  ...   \n",
       "2                          0                      0  ...   \n",
       "3                          0                      0  ...   \n",
       "4                          0                      0  ...   \n",
       "\n",
       "   business_structure_Non-Profit  business_structure_Not sure yet  \\\n",
       "0                              0                                0   \n",
       "1                              0                                0   \n",
       "2                              0                                0   \n",
       "3                              0                                0   \n",
       "4                              0                                0   \n",
       "\n",
       "   business_structure_Other  business_structure_Partnership   premium  \\\n",
       "0                         0                               0  6.249975   \n",
       "1                         0                               0  6.295266   \n",
       "2                         0                               0  6.214608   \n",
       "3                         0                               0  6.214608   \n",
       "4                         0                               0  5.991465   \n",
       "\n",
       "   carrier_id  year_established  annual_revenue  total_payroll  num_employees  \n",
       "0          60               3.0       11.512925      10.126631            3.0  \n",
       "1          60               3.0       11.512925      10.126631            3.0  \n",
       "2          39               3.0       10.126631       0.000000            0.0  \n",
       "3          31               4.0        9.210340       0.000000            0.0  \n",
       "4          31               3.0        9.392662       8.294050            1.0  \n",
       "\n",
       "[5 rows x 119 columns]"
      ]
     },
     "execution_count": 126,
     "metadata": {},
     "output_type": "execute_result"
    }
   ],
   "source": [
    "df_Test.head()"
   ]
  },
  {
   "cell_type": "code",
   "execution_count": 127,
   "id": "hearing-poker",
   "metadata": {},
   "outputs": [],
   "source": [
    "result = clf_final.predict(df_Test.to_numpy())"
   ]
  },
  {
   "cell_type": "code",
   "execution_count": 128,
   "id": "neutral-warner",
   "metadata": {},
   "outputs": [],
   "source": [
    "df_test['result'] = result.tolist()"
   ]
  },
  {
   "cell_type": "code",
   "execution_count": 129,
   "id": "placed-combat",
   "metadata": {},
   "outputs": [
    {
     "data": {
      "text/html": [
       "<div>\n",
       "<style scoped>\n",
       "    .dataframe tbody tr th:only-of-type {\n",
       "        vertical-align: middle;\n",
       "    }\n",
       "\n",
       "    .dataframe tbody tr th {\n",
       "        vertical-align: top;\n",
       "    }\n",
       "\n",
       "    .dataframe thead th {\n",
       "        text-align: right;\n",
       "    }\n",
       "</style>\n",
       "<table border=\"1\" class=\"dataframe\">\n",
       "  <thead>\n",
       "    <tr style=\"text-align: right;\">\n",
       "      <th></th>\n",
       "      <th>account_uuid</th>\n",
       "      <th>product</th>\n",
       "      <th>premium</th>\n",
       "      <th>carrier_id</th>\n",
       "      <th>state</th>\n",
       "      <th>industry</th>\n",
       "      <th>subindustry</th>\n",
       "      <th>year_established</th>\n",
       "      <th>annual_revenue</th>\n",
       "      <th>total_payroll</th>\n",
       "      <th>business_structure</th>\n",
       "      <th>num_employees</th>\n",
       "      <th>result</th>\n",
       "    </tr>\n",
       "  </thead>\n",
       "  <tbody>\n",
       "    <tr>\n",
       "      <th>0</th>\n",
       "      <td>cadb76f5-2f0ad-a78b-6c138-001288b999</td>\n",
       "      <td>Business_Owners_Policy_BOP</td>\n",
       "      <td>518.0</td>\n",
       "      <td>60</td>\n",
       "      <td>TX</td>\n",
       "      <td>Contractors</td>\n",
       "      <td>Electrical Contractors and Other Wiring Instal...</td>\n",
       "      <td>2018.0</td>\n",
       "      <td>100000.0</td>\n",
       "      <td>25000.0</td>\n",
       "      <td>Limited Liability Company</td>\n",
       "      <td>3.0</td>\n",
       "      <td>0</td>\n",
       "    </tr>\n",
       "    <tr>\n",
       "      <th>1</th>\n",
       "      <td>cadb76f5-2f0ad-a78b-6c138-001288b999</td>\n",
       "      <td>Business_Owners_Policy_BOP</td>\n",
       "      <td>542.0</td>\n",
       "      <td>60</td>\n",
       "      <td>TX</td>\n",
       "      <td>Contractors</td>\n",
       "      <td>Electrical Contractors and Other Wiring Instal...</td>\n",
       "      <td>2018.0</td>\n",
       "      <td>100000.0</td>\n",
       "      <td>25000.0</td>\n",
       "      <td>Limited Liability Company</td>\n",
       "      <td>3.0</td>\n",
       "      <td>0</td>\n",
       "    </tr>\n",
       "    <tr>\n",
       "      <th>2</th>\n",
       "      <td>d8aed557-aa49-4e6c-8f1d-860fa56e633f</td>\n",
       "      <td>General_Liability</td>\n",
       "      <td>500.0</td>\n",
       "      <td>39</td>\n",
       "      <td>FL</td>\n",
       "      <td>Administrative Services and Building Maintenance</td>\n",
       "      <td>Other Services to Buildings and Dwellings</td>\n",
       "      <td>2018.0</td>\n",
       "      <td>25000.0</td>\n",
       "      <td>0.0</td>\n",
       "      <td>Individual</td>\n",
       "      <td>0.0</td>\n",
       "      <td>1</td>\n",
       "    </tr>\n",
       "    <tr>\n",
       "      <th>3</th>\n",
       "      <td>08ec2c90-b3037-3f8e-429af-f834f19937</td>\n",
       "      <td>Business_Owners_Policy_BOP</td>\n",
       "      <td>500.0</td>\n",
       "      <td>31</td>\n",
       "      <td>NY</td>\n",
       "      <td>Administrative Services and Building Maintenance</td>\n",
       "      <td>Janitorial Services</td>\n",
       "      <td>2017.0</td>\n",
       "      <td>10000.0</td>\n",
       "      <td>0.0</td>\n",
       "      <td>Individual</td>\n",
       "      <td>0.0</td>\n",
       "      <td>1</td>\n",
       "    </tr>\n",
       "    <tr>\n",
       "      <th>4</th>\n",
       "      <td>14a4b644-740b-454e-8872-3460fda39092</td>\n",
       "      <td>CW_Professional_Liability</td>\n",
       "      <td>400.0</td>\n",
       "      <td>31</td>\n",
       "      <td>CA</td>\n",
       "      <td>NaN</td>\n",
       "      <td>NaN</td>\n",
       "      <td>2018.0</td>\n",
       "      <td>12000.0</td>\n",
       "      <td>4000.0</td>\n",
       "      <td>Individual</td>\n",
       "      <td>1.0</td>\n",
       "      <td>1</td>\n",
       "    </tr>\n",
       "  </tbody>\n",
       "</table>\n",
       "</div>"
      ],
      "text/plain": [
       "                           account_uuid                     product  premium  \\\n",
       "0  cadb76f5-2f0ad-a78b-6c138-001288b999  Business_Owners_Policy_BOP    518.0   \n",
       "1  cadb76f5-2f0ad-a78b-6c138-001288b999  Business_Owners_Policy_BOP    542.0   \n",
       "2  d8aed557-aa49-4e6c-8f1d-860fa56e633f           General_Liability    500.0   \n",
       "3  08ec2c90-b3037-3f8e-429af-f834f19937  Business_Owners_Policy_BOP    500.0   \n",
       "4  14a4b644-740b-454e-8872-3460fda39092   CW_Professional_Liability    400.0   \n",
       "\n",
       "   carrier_id state                                          industry  \\\n",
       "0          60    TX                                       Contractors   \n",
       "1          60    TX                                       Contractors   \n",
       "2          39    FL  Administrative Services and Building Maintenance   \n",
       "3          31    NY  Administrative Services and Building Maintenance   \n",
       "4          31    CA                                               NaN   \n",
       "\n",
       "                                         subindustry  year_established  \\\n",
       "0  Electrical Contractors and Other Wiring Instal...            2018.0   \n",
       "1  Electrical Contractors and Other Wiring Instal...            2018.0   \n",
       "2          Other Services to Buildings and Dwellings            2018.0   \n",
       "3                                Janitorial Services            2017.0   \n",
       "4                                                NaN            2018.0   \n",
       "\n",
       "   annual_revenue  total_payroll         business_structure  num_employees  \\\n",
       "0        100000.0        25000.0  Limited Liability Company            3.0   \n",
       "1        100000.0        25000.0  Limited Liability Company            3.0   \n",
       "2         25000.0            0.0                 Individual            0.0   \n",
       "3         10000.0            0.0                 Individual            0.0   \n",
       "4         12000.0         4000.0                 Individual            1.0   \n",
       "\n",
       "   result  \n",
       "0       0  \n",
       "1       0  \n",
       "2       1  \n",
       "3       1  \n",
       "4       1  "
      ]
     },
     "execution_count": 129,
     "metadata": {},
     "output_type": "execute_result"
    }
   ],
   "source": [
    "df_test.head()"
   ]
  },
  {
   "cell_type": "code",
   "execution_count": 130,
   "id": "industrial-violation",
   "metadata": {},
   "outputs": [
    {
     "data": {
      "text/plain": [
       "1    3759\n",
       "0    1246\n",
       "Name: result, dtype: int64"
      ]
     },
     "execution_count": 130,
     "metadata": {},
     "output_type": "execute_result"
    }
   ],
   "source": [
    "df_test.result.value_counts()"
   ]
  },
  {
   "cell_type": "code",
   "execution_count": 131,
   "id": "passing-grave",
   "metadata": {},
   "outputs": [],
   "source": [
    "df_result = df_test[df_test['result']==1].groupby('account_uuid',as_index=False)['premium'].sum()"
   ]
  },
  {
   "cell_type": "code",
   "execution_count": 132,
   "id": "processed-honey",
   "metadata": {},
   "outputs": [
    {
     "data": {
      "text/html": [
       "<div>\n",
       "<style scoped>\n",
       "    .dataframe tbody tr th:only-of-type {\n",
       "        vertical-align: middle;\n",
       "    }\n",
       "\n",
       "    .dataframe tbody tr th {\n",
       "        vertical-align: top;\n",
       "    }\n",
       "\n",
       "    .dataframe thead th {\n",
       "        text-align: right;\n",
       "    }\n",
       "</style>\n",
       "<table border=\"1\" class=\"dataframe\">\n",
       "  <thead>\n",
       "    <tr style=\"text-align: right;\">\n",
       "      <th></th>\n",
       "      <th>account_uuid</th>\n",
       "      <th>account_value</th>\n",
       "    </tr>\n",
       "  </thead>\n",
       "  <tbody>\n",
       "    <tr>\n",
       "      <th>0</th>\n",
       "      <td>0007250d-1fa22-3ea7-f8d9a-2ab585d136</td>\n",
       "      <td>3220.00</td>\n",
       "    </tr>\n",
       "    <tr>\n",
       "      <th>1</th>\n",
       "      <td>000f36a0-70dec-6b10-04a24-d07bcbe4ed</td>\n",
       "      <td>1066.00</td>\n",
       "    </tr>\n",
       "    <tr>\n",
       "      <th>2</th>\n",
       "      <td>00143506-a4ba9-6d4d-558b4-28e36e9ee4</td>\n",
       "      <td>9967.08</td>\n",
       "    </tr>\n",
       "    <tr>\n",
       "      <th>3</th>\n",
       "      <td>001d5526-eedf-49c9-904a-c4297022c4c5</td>\n",
       "      <td>621.00</td>\n",
       "    </tr>\n",
       "    <tr>\n",
       "      <th>4</th>\n",
       "      <td>002d4d12-184f-4e8c-8c79-851ec406c568</td>\n",
       "      <td>516.00</td>\n",
       "    </tr>\n",
       "    <tr>\n",
       "      <th>...</th>\n",
       "      <td>...</td>\n",
       "      <td>...</td>\n",
       "    </tr>\n",
       "    <tr>\n",
       "      <th>2194</th>\n",
       "      <td>ff3822c4-907ca-0da4-a06db-6deb800602</td>\n",
       "      <td>500.00</td>\n",
       "    </tr>\n",
       "    <tr>\n",
       "      <th>2195</th>\n",
       "      <td>ff4b624e-906e6-24e3-a128b-ee25dab4ce</td>\n",
       "      <td>597.00</td>\n",
       "    </tr>\n",
       "    <tr>\n",
       "      <th>2196</th>\n",
       "      <td>ff5b8d3e-5842-4495-b7bc-8c20bdac4bf8</td>\n",
       "      <td>5923.00</td>\n",
       "    </tr>\n",
       "    <tr>\n",
       "      <th>2197</th>\n",
       "      <td>ff7ba7a6-2d9a-4e26-8344-d2254e2cd747</td>\n",
       "      <td>3284.34</td>\n",
       "    </tr>\n",
       "    <tr>\n",
       "      <th>2198</th>\n",
       "      <td>ffd84807-18c22-ea59-71f3a-133f375af5</td>\n",
       "      <td>1705.00</td>\n",
       "    </tr>\n",
       "  </tbody>\n",
       "</table>\n",
       "<p>2199 rows × 2 columns</p>\n",
       "</div>"
      ],
      "text/plain": [
       "                              account_uuid  account_value\n",
       "0     0007250d-1fa22-3ea7-f8d9a-2ab585d136        3220.00\n",
       "1     000f36a0-70dec-6b10-04a24-d07bcbe4ed        1066.00\n",
       "2     00143506-a4ba9-6d4d-558b4-28e36e9ee4        9967.08\n",
       "3     001d5526-eedf-49c9-904a-c4297022c4c5         621.00\n",
       "4     002d4d12-184f-4e8c-8c79-851ec406c568         516.00\n",
       "...                                    ...            ...\n",
       "2194  ff3822c4-907ca-0da4-a06db-6deb800602         500.00\n",
       "2195  ff4b624e-906e6-24e3-a128b-ee25dab4ce         597.00\n",
       "2196  ff5b8d3e-5842-4495-b7bc-8c20bdac4bf8        5923.00\n",
       "2197  ff7ba7a6-2d9a-4e26-8344-d2254e2cd747        3284.34\n",
       "2198  ffd84807-18c22-ea59-71f3a-133f375af5        1705.00\n",
       "\n",
       "[2199 rows x 2 columns]"
      ]
     },
     "execution_count": 132,
     "metadata": {},
     "output_type": "execute_result"
    }
   ],
   "source": [
    "df_result.rename(columns={\"premium\": \"account_value\"})"
   ]
  },
  {
   "cell_type": "code",
   "execution_count": 133,
   "id": "registered-cooper",
   "metadata": {},
   "outputs": [],
   "source": [
    "df_result.to_csv('../../results/predict_account_value.csv')"
   ]
  },
  {
   "cell_type": "code",
   "execution_count": null,
   "id": "material-ideal",
   "metadata": {},
   "outputs": [],
   "source": []
  }
 ],
 "metadata": {
  "kernelspec": {
   "display_name": "Python 3",
   "language": "python",
   "name": "python3"
  },
  "language_info": {
   "codemirror_mode": {
    "name": "ipython",
    "version": 3
   },
   "file_extension": ".py",
   "mimetype": "text/x-python",
   "name": "python",
   "nbconvert_exporter": "python",
   "pygments_lexer": "ipython3",
   "version": "3.6.12"
  }
 },
 "nbformat": 4,
 "nbformat_minor": 5
}
